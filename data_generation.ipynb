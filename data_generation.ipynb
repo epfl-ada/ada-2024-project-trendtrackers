{
 "cells": [
  {
   "cell_type": "code",
   "execution_count": null,
   "metadata": {},
   "outputs": [],
   "source": [
    "import numpy as np\n",
    "import pandas as pd\n",
    "\n",
    "import zipfile\n",
    "\n",
    "import matplotlib.pyplot as plt\n",
    "import seaborn as sns\n",
    "\n",
    "from implementations import *"
   ]
  },
  {
   "cell_type": "code",
   "execution_count": null,
   "metadata": {},
   "outputs": [],
   "source": [
    "SAVING_NAME = 'labeled_data.csv'"
   ]
  },
  {
   "cell_type": "code",
   "execution_count": null,
   "metadata": {},
   "outputs": [],
   "source": [
    "zip_file_path = 'BindingDB_All_202409_tsv.zip'\n",
    "file_path = 'BindingDB_All.tsv'\n",
    "\n",
    "with zipfile.ZipFile(zip_file_path, 'r') as zip_ref:\n",
    "    with zip_ref.open(file_path) as file:\n",
    "        data = pd.read_csv(file, sep='\\t', \n",
    "                           usecols=['Ligand SMILES', 'Target Name', 'Ki (nM)', \n",
    "                                    'Target Source Organism According to Curator or DataSource',\n",
    "                                    'Number of Protein Chains in Target (>1 implies a multichain complex)'], \n",
    "                           na_values=['', 'NULL'])\n",
    "        \n",
    "hiv_data = data[data['Target Source Organism According to Curator or DataSource'] == 'Human immunodeficiency virus 1'].reset_index(drop=True)\n",
    "mask_invalid_values = hiv_data['Ki (nM)'].str.contains('<',case=False,na=False) | hiv_data['Ki (nM)'].str.contains('>',case=False,na=False) | hiv_data['Ki (nM)'].isna()\n",
    "hiv_data = hiv_data[~mask_invalid_values]\n",
    "hiv_data = hiv_data[hiv_data['Number of Protein Chains in Target (>1 implies a multichain complex)']==1].reset_index(drop=True)\n",
    "print(f'final size: {hiv_data.shape[0]}')\n",
    "\n",
    "ligand_embedding = pd.DataFrame(np.load('ligand_embeddings.npy'))\n",
    "protein_embedding = pd.DataFrame(np.load('protein_embeddings.npy'))\n",
    "ligand_embedding = pd.concat((hiv_data[['Ligand SMILES', 'Target Name', 'Ki (nM)']], ligand_embedding),axis=1)"
   ]
  },
  {
   "cell_type": "code",
   "execution_count": null,
   "metadata": {},
   "outputs": [],
   "source": [
    "ligand_embedding.head()"
   ]
  },
  {
   "cell_type": "markdown",
   "metadata": {},
   "source": [
    "### <b>labelling</b>"
   ]
  },
  {
   "cell_type": "code",
   "execution_count": null,
   "metadata": {},
   "outputs": [],
   "source": [
    "NN = 50\n",
    "D = 0.05\n",
    "N_CLUSTER = 3\n",
    "METRIC = 'cosine'\n",
    "K_LIGAND = 3\n",
    "N_EMB_LIGAND = 768\n",
    "NC_PROT = 1000 # could be the same size as ligand embedding\n",
    "cluster_model = KMeans\n",
    "cluster_ligand = {'n_clusters':K_LIGAND, 'random_state':42}"
   ]
  },
  {
   "cell_type": "code",
   "execution_count": null,
   "metadata": {},
   "outputs": [],
   "source": [
    "smiles_list = hiv_data['Ligand SMILES'].unique().tolist()"
   ]
  },
  {
   "cell_type": "code",
   "execution_count": null,
   "metadata": {},
   "outputs": [],
   "source": [
    "model_name = \"seyonec/ChemBERTa-zinc-base-v1\"\n",
    "model, tokenizer = get_BERT_model(model_name)\n",
    "\n",
    "bert_SMILES = np.zeros((len(smiles_list), N_EMB_LIGAND))\n",
    "\n",
    "for i in range(len(smiles_list)):\n",
    "    inputs = tokenizer(smiles_list[i], padding=True, truncation=True, return_tensors=\"pt\")\n",
    "    with torch.no_grad():\n",
    "        outputs = model(**inputs)\n",
    "    if i % 500 == 0:\n",
    "        print(f'iteration {i}')\n",
    "    bert_SMILES[i] = outputs.last_hidden_state.mean(dim=1).numpy()"
   ]
  },
  {
   "cell_type": "code",
   "execution_count": null,
   "metadata": {},
   "outputs": [],
   "source": [
    "model = umap.UMAP(n_components=3, n_neighbors=NN, min_dist=D, metric=METRIC)\n",
    "umap_ligand = model.fit_transform(bert_SMILES)\n",
    "kmeans = cluster_model(**cluster_ligand)\n",
    "kmeans.fit(umap_ligand)\n",
    "\n",
    "df = pd.DataFrame(umap_ligand, columns=[f'UMAP1', f'UMAP2', f'UMAP3'])\n",
    "df['Cluster'] = kmeans.labels_\n",
    "\n",
    "    # Create 3D scatter plot\n",
    "fig = go.Figure()\n",
    "scatter = go.Scatter3d(\n",
    "    x=df[f'UMAP1'],\n",
    "    y=df[f'UMAP2'],\n",
    "    z=df[f'UMAP3'],\n",
    "    mode='markers',\n",
    "    marker=dict(size=5, color=df['Cluster'], colorscale='Inferno', opacity=0.7)\n",
    ")\n",
    "fig.add_trace(scatter)\n",
    "\n",
    "# Customize layout\n",
    "fig.update_layout(\n",
    "    title=f\"UMAP Clusters\",\n",
    "        scene=dict(\n",
    "        xaxis_title=f'UMAP1',\n",
    "        yaxis_title=f'UMAP2',\n",
    "        zaxis_title=f'UMAP3',\n",
    "        xaxis=dict(showgrid=True, gridwidth=2, gridcolor='gray'),\n",
    "        yaxis=dict(showgrid=True, gridwidth=2, gridcolor='gray'),\n",
    "        zaxis=dict(showgrid=True, gridwidth=2, gridcolor='gray'),\n",
    "    ),\n",
    "    height=800, width=1200,\n",
    "    template=\"plotly_white\"\n",
    ")\n",
    "\n",
    "# Display the figure\n",
    "fig.show()"
   ]
  },
  {
   "cell_type": "code",
   "execution_count": null,
   "metadata": {},
   "outputs": [],
   "source": [
    "smiles_list = pd.concat((pd.Series(smiles_list,name='Ligand SMILES'),pd.Series(kmeans.labels_,name='Labels')),axis=1)"
   ]
  },
  {
   "cell_type": "code",
   "execution_count": null,
   "metadata": {},
   "outputs": [],
   "source": [
    "model = umap.UMAP(n_components=NC_PROT, n_neighbors=NN, min_dist=D, metric=METRIC)\n",
    "protein_embedding = model.fit_transform(protein_embedding)"
   ]
  },
  {
   "cell_type": "code",
   "execution_count": null,
   "metadata": {},
   "outputs": [],
   "source": [
    "ligand_embedding = pd.merge(ligand_embedding,smiles_list,on='Ligand SMILES')\n",
    "labeled_data = pd.concat((ligand_embedding,pd.DataFrame(protein_embedding)),axis=1)\n",
    "# to avoid multi type in columns\n",
    "labeled_data.columns = labeled_data.columns.astype(str)"
   ]
  },
  {
   "cell_type": "code",
   "execution_count": null,
   "metadata": {},
   "outputs": [],
   "source": [
    "labeled_data.columns"
   ]
  },
  {
   "cell_type": "code",
   "execution_count": null,
   "metadata": {},
   "outputs": [],
   "source": [
    "labeled_data.to_csv('labeled_data.csv', index=False)"
   ]
  }
 ],
 "metadata": {
  "language_info": {
   "name": "python"
  }
 },
 "nbformat": 4,
 "nbformat_minor": 2
}
