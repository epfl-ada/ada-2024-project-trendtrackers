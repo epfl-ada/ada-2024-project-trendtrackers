{
 "cells": [
  {
   "cell_type": "code",
   "execution_count": 34,
   "metadata": {},
   "outputs": [],
   "source": [
    "import numpy as np\n",
    "import pandas as pd\n",
    "\n",
    "import zipfile\n",
    "\n",
    "import matplotlib.pyplot as plt\n",
    "import seaborn as sns\n",
    "\n",
    "from sklearn.model_selection import GridSearchCV\n",
    "from sklearn.linear_model import Ridge, LinearRegression\n",
    "from sklearn.metrics import mean_squared_log_error\n",
    "from sklearn.ensemble import RandomForestRegressor, GradientBoostingRegressor\n",
    "from sklearn.preprocessing import StandardScaler\n",
    "\n",
    "import torch\n",
    "from torch.utils.data import DataLoader, TensorDataset\n",
    "\n",
    "from src.model_implementations import split_by_labels, Triple_Net\n",
    "from src.implementations import *"
   ]
  },
  {
   "cell_type": "code",
   "execution_count": 35,
   "metadata": {},
   "outputs": [],
   "source": [
    "labeled_data = pd.read_csv('labeled_data_BERT.csv')"
   ]
  },
  {
   "cell_type": "markdown",
   "metadata": {},
   "source": [
    "# <u><b> Prediction Models: </b></u>"
   ]
  },
  {
   "cell_type": "code",
   "execution_count": 36,
   "metadata": {},
   "outputs": [],
   "source": [
    "N_SPLIT = 9\n",
    "KSPLIT = N_SPLIT - 1"
   ]
  },
  {
   "cell_type": "code",
   "execution_count": 37,
   "metadata": {},
   "outputs": [],
   "source": [
    "GAGPOL_data = labeled_data[labeled_data['Target Name'] == 'Gag-Pol polyprotein [489-587]']"
   ]
  },
  {
   "cell_type": "code",
   "execution_count": 38,
   "metadata": {},
   "outputs": [
    {
     "name": "stderr",
     "output_type": "stream",
     "text": [
      "c:\\Users\\hudrya\\anaconda3\\lib\\site-packages\\numpy\\core\\fromnumeric.py:59: FutureWarning:\n",
      "\n",
      "'DataFrame.swapaxes' is deprecated and will be removed in a future version. Please use 'DataFrame.transpose' instead.\n",
      "\n"
     ]
    }
   ],
   "source": [
    "train, test = split_by_labels(GAGPOL_data,N_SPLIT)\n",
    "y_train, y_test = np.array(train['Ki (nM)'], dtype=np.float64()).reshape(-1, 1), np.array(test['Ki (nM)'], dtype=np.float64()).reshape(-1, 1)\n",
    "X_train, X_test = train.drop(columns=['Ki (nM)','Ligand SMILES','Labels', 'Target Name'], axis=1), test.drop(columns=['Ki (nM)','Ligand SMILES','Labels', 'Target Name'], axis=1)\n",
    "\n",
    "scaler = StandardScaler()\n",
    "pca = PCA(n_components=256)\n",
    "\n",
    "X_train = scaler.fit_transform(X_train)\n",
    "X_test = scaler.transform(X_test)\n",
    "X_train = pca.fit_transform(X_train)\n",
    "X_test = pca.transform(X_test)\n",
    "\n",
    "y_train_scaled, y_test_scaled = np.log10(y_train), np.log10(y_test)"
   ]
  },
  {
   "cell_type": "code",
   "execution_count": 78,
   "metadata": {},
   "outputs": [],
   "source": [
    "def plot_error_histogram(predictions, y_test, title=\"Test Error of Random Assignment\", xlabel=\"Absolute Error of Log Ki\", save_path=None):\n",
    "    \"\"\"\n",
    "    Function to plot a histogram of the absolute percentage error with log scale on the x-axis.\n",
    "    \n",
    "    Parameters:\n",
    "    - predictions: ndarray\n",
    "        The predicted values (1D array).\n",
    "    - y_test: ndarray\n",
    "        The true values (1D array).\n",
    "    - title: str, optional\n",
    "        The title of the plot (default: 'Test Error of Random Assignment').\n",
    "    - xlabel: str, optional\n",
    "        The label for the x-axis (default: 'Absolute Percentage Error').\n",
    "    - save_path: str, optional\n",
    "        The path to save the figure as an HTML file (default: None, meaning no save).\n",
    "    \"\"\"\n",
    "\n",
    "    error = np.abs(predictions.ravel() - y_test.ravel())\n",
    "\n",
    "    error = error[np.isfinite(error)]\n",
    "\n",
    "    fig = px.histogram(\n",
    "        x=error,\n",
    "        nbins=100, \n",
    "        labels={'x': xlabel},\n",
    "        title=title\n",
    "    )\n",
    "\n",
    "    fig.update_layout(\n",
    "        title=dict(text=title, x=0.5, font=dict(size=20)),\n",
    "        xaxis=dict(\n",
    "            title=xlabel,\n",
    "            tickfont=dict(size=12)\n",
    "        ),\n",
    "        yaxis=dict(\n",
    "            title='Count',\n",
    "            tickfont=dict(size=12)\n",
    "        ),\n",
    "        font=dict(size=12),\n",
    "        width=1000,\n",
    "        height=600\n",
    "    )\n",
    "\n",
    "    fig.show()\n",
    "\n",
    "    if save_path:\n",
    "        if not save_path.endswith(\".html\"):\n",
    "            save_path += \".html\" \n",
    "        fig.write_html(save_path, full_html=False, include_plotlyjs='cdn')\n",
    "        print(f\"Figure saved to {save_path}\")"
   ]
  },
  {
   "cell_type": "code",
   "execution_count": 84,
   "metadata": {},
   "outputs": [
    {
     "ename": "TypeError",
     "evalue": "choice() got an unexpected keyword argument 'random_state'",
     "output_type": "error",
     "traceback": [
      "\u001b[1;31m---------------------------------------------------------------------------\u001b[0m",
      "\u001b[1;31mTypeError\u001b[0m                                 Traceback (most recent call last)",
      "Cell \u001b[1;32mIn[84], line 1\u001b[0m\n\u001b[1;32m----> 1\u001b[0m pred_random \u001b[38;5;241m=\u001b[39m \u001b[43mnp\u001b[49m\u001b[38;5;241;43m.\u001b[39;49m\u001b[43mrandom\u001b[49m\u001b[38;5;241;43m.\u001b[39;49m\u001b[43mchoice\u001b[49m\u001b[43m(\u001b[49m\u001b[43mnp\u001b[49m\u001b[38;5;241;43m.\u001b[39;49m\u001b[43msqueeze\u001b[49m\u001b[43m(\u001b[49m\u001b[43my_test_scaled\u001b[49m\u001b[43m)\u001b[49m\u001b[43m,\u001b[49m\u001b[38;5;28;43mlen\u001b[39;49m\u001b[43m(\u001b[49m\u001b[43my_test_scaled\u001b[49m\u001b[43m)\u001b[49m\u001b[43m,\u001b[49m\u001b[43mreplace\u001b[49m\u001b[38;5;241;43m=\u001b[39;49m\u001b[38;5;28;43;01mFalse\u001b[39;49;00m\u001b[43m,\u001b[49m\u001b[43mrandom_state\u001b[49m\u001b[38;5;241;43m=\u001b[39;49m\u001b[38;5;241;43m42\u001b[39;49m\u001b[43m)\u001b[49m\n",
      "File \u001b[1;32mnumpy\\\\random\\\\mtrand.pyx:841\u001b[0m, in \u001b[0;36mnumpy.random.mtrand.RandomState.choice\u001b[1;34m()\u001b[0m\n",
      "\u001b[1;31mTypeError\u001b[0m: choice() got an unexpected keyword argument 'random_state'"
     ]
    }
   ],
   "source": [
    "pred_random = np.random.choice(np.squeeze(y_test_scaled),len(y_test_scaled),replace=False)"
   ]
  },
  {
   "cell_type": "code",
   "execution_count": 41,
   "metadata": {},
   "outputs": [],
   "source": [
    "lm = Ridge(random_state=42)\n",
    "\n",
    "gridsearch_lm = GridSearchCV(estimator=lm, param_grid={'alpha':np.logspace(-4,0,20)}, scoring='neg_mean_squared_error', cv=KSPLIT) # no shuffling so ok\n",
    "\n",
    "gridsearch_lm.fit(X_train, y_train_scaled)\n",
    "pred_LM = gridsearch_lm.predict(X_test)"
   ]
  },
  {
   "cell_type": "code",
   "execution_count": 42,
   "metadata": {},
   "outputs": [],
   "source": [
    "rf = RandomForestRegressor(n_estimators=100, max_depth=10,random_state=42)\n",
    "rf.fit(X_train, y_train_scaled.ravel())\n",
    "pred_RF = rf.predict(X_test)"
   ]
  },
  {
   "cell_type": "code",
   "execution_count": 43,
   "metadata": {},
   "outputs": [],
   "source": [
    "XGBoost = GradientBoostingRegressor(n_estimators=100, max_depth=10, random_state=42)\n",
    "XGBoost.fit(X_train, y_train_scaled.ravel())\n",
    "pred_XGB = XGBoost.predict(X_test)"
   ]
  },
  {
   "cell_type": "code",
   "execution_count": 44,
   "metadata": {},
   "outputs": [
    {
     "name": "stdout",
     "output_type": "stream",
     "text": [
      "Epoch 1/200, Loss: 4.93900\n",
      "Epoch 2/200, Loss: 180.48598\n",
      "Epoch 3/200, Loss: 111.79277\n",
      "Epoch 4/200, Loss: 36.03146\n",
      "Epoch 5/200, Loss: 11.82403\n",
      "Epoch 6/200, Loss: 8.02455\n",
      "Epoch 7/200, Loss: 8.85591\n",
      "Epoch 8/200, Loss: 9.27364\n",
      "Epoch 9/200, Loss: 8.40772\n",
      "Epoch 10/200, Loss: 7.01667\n",
      "Epoch 11/200, Loss: 5.92645\n",
      "Epoch 12/200, Loss: 5.40966\n",
      "Epoch 13/200, Loss: 5.24398\n",
      "Epoch 14/200, Loss: 5.12298\n",
      "Epoch 15/200, Loss: 4.88508\n",
      "Epoch 16/200, Loss: 4.50616\n",
      "Epoch 17/200, Loss: 4.04624\n",
      "Epoch 18/200, Loss: 3.59412\n",
      "Epoch 19/200, Loss: 3.22706\n",
      "Epoch 20/200, Loss: 2.98446\n",
      "Epoch 21/200, Loss: 2.86136\n",
      "Epoch 22/200, Loss: 2.81665\n",
      "Epoch 23/200, Loss: 2.79385\n",
      "Epoch 24/200, Loss: 2.74421\n",
      "Epoch 25/200, Loss: 2.64109\n",
      "Epoch 26/200, Loss: 2.48107\n",
      "Epoch 27/200, Loss: 2.28562\n",
      "Epoch 28/200, Loss: 2.09009\n",
      "Epoch 29/200, Loss: 1.92762\n",
      "Epoch 30/200, Loss: 1.81407\n",
      "Epoch 31/200, Loss: 1.74665\n",
      "Epoch 32/200, Loss: 1.71169\n",
      "Epoch 33/200, Loss: 1.69142\n",
      "Epoch 34/200, Loss: 1.67099\n",
      "Epoch 35/200, Loss: 1.64172\n",
      "Epoch 36/200, Loss: 1.59854\n",
      "Epoch 37/200, Loss: 1.54098\n",
      "Epoch 38/200, Loss: 1.47434\n",
      "Epoch 39/200, Loss: 1.40931\n",
      "Epoch 40/200, Loss: 1.35764\n",
      "Epoch 41/200, Loss: 1.32434\n",
      "Epoch 42/200, Loss: 1.30361\n",
      "Epoch 43/200, Loss: 1.28398\n",
      "Epoch 44/200, Loss: 1.25660\n",
      "Epoch 45/200, Loss: 1.21989\n",
      "Epoch 46/200, Loss: 1.17905\n",
      "Epoch 47/200, Loss: 1.14255\n",
      "Epoch 48/200, Loss: 1.11431\n",
      "Epoch 49/200, Loss: 1.09346\n",
      "Epoch 50/200, Loss: 1.07658\n",
      "Epoch 51/200, Loss: 1.05997\n",
      "Epoch 52/200, Loss: 1.04465\n",
      "Epoch 53/200, Loss: 1.02684\n",
      "Epoch 54/200, Loss: 1.00830\n",
      "Epoch 55/200, Loss: 0.98983\n",
      "Epoch 56/200, Loss: 0.97067\n",
      "Epoch 57/200, Loss: 0.94999\n",
      "Epoch 58/200, Loss: 0.92875\n",
      "Epoch 59/200, Loss: 0.90971\n",
      "Epoch 60/200, Loss: 0.89427\n",
      "Epoch 61/200, Loss: 0.87840\n",
      "Epoch 62/200, Loss: 0.85711\n",
      "Epoch 63/200, Loss: 0.83289\n",
      "Epoch 64/200, Loss: 0.81290\n",
      "Epoch 65/200, Loss: 0.79992\n",
      "Epoch 66/200, Loss: 0.78767\n",
      "Epoch 67/200, Loss: 0.76757\n",
      "Epoch 68/200, Loss: 0.74057\n",
      "Epoch 69/200, Loss: 0.71941\n",
      "Epoch 70/200, Loss: 0.70774\n",
      "Epoch 71/200, Loss: 0.68637\n",
      "Epoch 72/200, Loss: 0.65703\n",
      "Epoch 73/200, Loss: 0.63975\n",
      "Epoch 74/200, Loss: 0.62200\n",
      "Epoch 75/200, Loss: 0.59597\n",
      "Epoch 76/200, Loss: 0.57729\n",
      "Epoch 77/200, Loss: 0.55795\n",
      "Epoch 78/200, Loss: 0.53790\n",
      "Epoch 79/200, Loss: 0.51853\n",
      "Epoch 80/200, Loss: 0.49519\n",
      "Epoch 81/200, Loss: 0.47988\n",
      "Epoch 82/200, Loss: 0.45722\n",
      "Epoch 83/200, Loss: 0.44200\n",
      "Epoch 84/200, Loss: 0.42383\n",
      "Epoch 85/200, Loss: 0.41211\n",
      "Epoch 86/200, Loss: 0.44825\n",
      "Epoch 87/200, Loss: 0.54678\n",
      "Epoch 88/200, Loss: 0.51165\n",
      "Epoch 89/200, Loss: 0.48480\n",
      "Epoch 90/200, Loss: 0.43507\n",
      "Epoch 91/200, Loss: 0.37835\n",
      "Epoch 92/200, Loss: 0.38925\n",
      "Epoch 93/200, Loss: 0.33523\n",
      "Epoch 94/200, Loss: 0.35201\n",
      "Epoch 95/200, Loss: 0.29605\n",
      "Epoch 96/200, Loss: 0.31144\n",
      "Epoch 97/200, Loss: 0.28626\n",
      "Epoch 98/200, Loss: 0.26694\n",
      "Epoch 99/200, Loss: 0.26933\n",
      "Epoch 100/200, Loss: 0.24848\n",
      "Epoch 101/200, Loss: 0.22856\n",
      "Epoch 102/200, Loss: 0.22629\n",
      "Epoch 103/200, Loss: 0.20975\n",
      "Epoch 104/200, Loss: 0.20278\n",
      "Epoch 105/200, Loss: 0.19628\n",
      "Epoch 106/200, Loss: 0.20089\n",
      "Epoch 107/200, Loss: 0.19620\n",
      "Epoch 108/200, Loss: 0.21143\n",
      "Epoch 109/200, Loss: 0.23905\n",
      "Epoch 110/200, Loss: 0.26408\n",
      "Epoch 111/200, Loss: 0.29457\n",
      "Epoch 112/200, Loss: 0.29472\n",
      "Epoch 113/200, Loss: 0.27841\n",
      "Epoch 114/200, Loss: 0.24754\n",
      "Epoch 115/200, Loss: 0.21053\n",
      "Epoch 116/200, Loss: 0.26894\n",
      "Epoch 117/200, Loss: 0.17545\n",
      "Epoch 118/200, Loss: 0.23440\n",
      "Epoch 119/200, Loss: 0.18611\n",
      "Epoch 120/200, Loss: 0.19545\n",
      "Epoch 121/200, Loss: 0.18673\n",
      "Epoch 122/200, Loss: 0.16653\n",
      "Epoch 123/200, Loss: 0.15728\n",
      "Epoch 124/200, Loss: 0.18294\n",
      "Epoch 125/200, Loss: 0.13280\n",
      "Epoch 126/200, Loss: 0.15013\n",
      "Epoch 127/200, Loss: 0.14927\n",
      "Epoch 128/200, Loss: 0.16712\n",
      "Epoch 129/200, Loss: 0.23355\n",
      "Epoch 130/200, Loss: 0.55974\n",
      "Epoch 131/200, Loss: 0.90663\n",
      "Epoch 132/200, Loss: 0.35708\n",
      "Epoch 133/200, Loss: 0.51750\n",
      "Epoch 134/200, Loss: 0.38533\n",
      "Epoch 135/200, Loss: 0.34625\n",
      "Epoch 136/200, Loss: 0.38711\n",
      "Epoch 137/200, Loss: 0.28362\n",
      "Epoch 138/200, Loss: 0.29057\n",
      "Epoch 139/200, Loss: 0.31344\n",
      "Epoch 140/200, Loss: 0.21899\n",
      "Epoch 141/200, Loss: 0.27413\n",
      "Epoch 142/200, Loss: 0.24070\n",
      "Epoch 143/200, Loss: 0.21000\n",
      "Epoch 144/200, Loss: 0.22197\n",
      "Epoch 145/200, Loss: 0.20986\n",
      "Epoch 146/200, Loss: 0.17645\n",
      "Epoch 147/200, Loss: 0.20618\n",
      "Epoch 148/200, Loss: 0.16528\n",
      "Epoch 149/200, Loss: 0.17084\n",
      "Epoch 150/200, Loss: 0.17167\n",
      "Epoch 151/200, Loss: 0.14814\n",
      "Epoch 152/200, Loss: 0.15055\n",
      "Epoch 153/200, Loss: 0.14803\n",
      "Epoch 154/200, Loss: 0.13504\n",
      "Epoch 155/200, Loss: 0.13873\n",
      "Epoch 156/200, Loss: 0.13503\n",
      "Epoch 157/200, Loss: 0.12412\n",
      "Epoch 158/200, Loss: 0.12930\n",
      "Epoch 159/200, Loss: 0.12075\n",
      "Epoch 160/200, Loss: 0.11731\n",
      "Epoch 161/200, Loss: 0.11716\n",
      "Epoch 162/200, Loss: 0.11431\n",
      "Epoch 163/200, Loss: 0.11128\n",
      "Epoch 164/200, Loss: 0.10855\n",
      "Epoch 165/200, Loss: 0.10397\n",
      "Epoch 166/200, Loss: 0.10344\n",
      "Epoch 167/200, Loss: 0.09795\n",
      "Epoch 168/200, Loss: 0.10522\n",
      "Epoch 169/200, Loss: 0.12831\n",
      "Epoch 170/200, Loss: 0.32048\n",
      "Epoch 171/200, Loss: 0.83722\n",
      "Epoch 172/200, Loss: 0.42773\n",
      "Epoch 173/200, Loss: 0.42251\n",
      "Epoch 174/200, Loss: 0.31531\n",
      "Epoch 175/200, Loss: 0.39590\n",
      "Epoch 176/200, Loss: 0.25514\n",
      "Epoch 177/200, Loss: 0.28837\n",
      "Epoch 178/200, Loss: 0.27721\n",
      "Epoch 179/200, Loss: 0.21737\n",
      "Epoch 180/200, Loss: 0.24688\n",
      "Epoch 181/200, Loss: 0.20896\n",
      "Epoch 182/200, Loss: 0.19683\n",
      "Epoch 183/200, Loss: 0.20588\n",
      "Epoch 184/200, Loss: 0.17381\n",
      "Epoch 185/200, Loss: 0.17466\n",
      "Epoch 186/200, Loss: 0.16596\n",
      "Epoch 187/200, Loss: 0.15912\n",
      "Epoch 188/200, Loss: 0.14803\n",
      "Epoch 189/200, Loss: 0.14613\n",
      "Epoch 190/200, Loss: 0.13598\n",
      "Epoch 191/200, Loss: 0.13321\n",
      "Epoch 192/200, Loss: 0.13262\n",
      "Epoch 193/200, Loss: 0.12847\n",
      "Epoch 194/200, Loss: 0.13716\n",
      "Epoch 195/200, Loss: 0.15092\n",
      "Epoch 196/200, Loss: 0.20072\n",
      "Epoch 197/200, Loss: 0.26831\n",
      "Epoch 198/200, Loss: 0.26905\n",
      "Epoch 199/200, Loss: 0.16932\n",
      "Epoch 200/200, Loss: 0.19806\n"
     ]
    }
   ],
   "source": [
    "num_epochs = 200\n",
    "\n",
    "X_train_t = torch.tensor(X_train, dtype=torch.float32)\n",
    "X_test_t = torch.tensor(X_test, dtype=torch.float32)\n",
    "y_train_t = torch.tensor(y_train_scaled, dtype=torch.float32)\n",
    "\n",
    "dataset = TensorDataset(X_train_t, y_train_t)\n",
    "dataloader = DataLoader(dataset, batch_size=len(X_train_t), shuffle=False)\n",
    "\n",
    "TN = Triple_Net(input_size=X_train.shape[1], K=4096, dropout_rate=0.0)\n",
    "\n",
    "criterion = torch.nn.MSELoss()\n",
    "optimizer = torch.optim.Adam(TN.parameters(), lr=2e-3, weight_decay=1e-2)\n",
    "scheduler = torch.optim.lr_scheduler.StepLR(optimizer=optimizer,step_size=50,gamma=0.8)\n",
    "\n",
    "for epoch in range(num_epochs):\n",
    "    for batch_idx, (data, target) in enumerate(dataloader):\n",
    "\n",
    "        optimizer.zero_grad()\n",
    "        output = TN(data)\n",
    "        loss = criterion(output, target)\n",
    "        loss.backward()\n",
    "        optimizer.step()\n",
    "        print(f\"Epoch {epoch + 1}/{num_epochs}, Loss: {loss.item():.5f}\")\n",
    "    scheduler.step()"
   ]
  },
  {
   "cell_type": "code",
   "execution_count": 72,
   "metadata": {},
   "outputs": [],
   "source": [
    "TN.eval()\n",
    "with torch.no_grad():\n",
    "    pred_TN = TN(X_test_t)\n",
    "    pred_TN = pred_TN.detach().cpu().numpy()"
   ]
  },
  {
   "cell_type": "code",
   "execution_count": 90,
   "metadata": {},
   "outputs": [
    {
     "data": {
      "application/vnd.plotly.v1+json": {
       "config": {
        "plotlyServerURL": "https://plot.ly"
       },
       "data": [
        {
         "alignmentgroup": "True",
         "bingroup": "x",
         "hovertemplate": "Absolute Error of Log Ki=%{x}<br>count=%{y}<extra></extra>",
         "legendgroup": "",
         "marker": {
          "color": "#636efa",
          "pattern": {
           "shape": ""
          }
         },
         "name": "",
         "nbinsx": 100,
         "offsetgroup": "",
         "orientation": "v",
         "showlegend": false,
         "type": "histogram",
         "x": [
          0.7346855566025533,
          4.735953570589189,
          5.06759937349781,
          2.439332693830263,
          1.7569619513137056,
          0.3203351508593677,
          0.34933467523853623,
          0.4965498065579885,
          5.691460402557273,
          1.4238757427664375,
          0,
          0.6334684555795864,
          2.647097855407657,
          3.4436974992327127,
          0.3208383890175335,
          0.7832908900360547,
          0.39794000867203766,
          2.0881360887005513,
          6.335792101923193,
          2.9220578260679235,
          2.433053628088362,
          2.1371731930253115,
          0.765916793966632,
          0.22184874961635637,
          3.1258617858014786,
          0.42021640338318966,
          0.7537087939159837,
          2.385350881364017,
          3.4873404199013485,
          3.3309932190414244,
          1.6434526764861874,
          3.545089837460444,
          5.580870692258024,
          2.380211241711606,
          0.38057462180388235,
          0.9719712763997566,
          2.8616973018337184,
          1.4520932490177314,
          1.084320885700036,
          1.1962946451439684,
          1.2218487496163566,
          0.9777236052888477,
          4.735015108520658,
          2.5228787452803374,
          0.3850101245933746,
          0.21871303576349788,
          0.9018486658455762,
          0.73115468770742,
          4.433996585284248,
          1.9999999999999998,
          3.082669573893446,
          0.6264193371874072,
          1.5199930570428495,
          3.0824589558088604,
          0.36653154442041347,
          5.522878745280337,
          3.182750888724424,
          3.2999551988017073,
          1.1218879851036812,
          1.2218487496163564,
          0.25181197299379954,
          2.1635021317476606,
          4.9344984512435675,
          0.3233063903751335,
          0.8187691012919076,
          3.522878745280338,
          1.2153178824573987,
          1,
          2.0621479067488444,
          1.411728293157671,
          3.285609636796487,
          2.4999841376791667,
          3.3440646278891832,
          3.196294645143968,
          3.1220530483708115,
          1.8037053548560318,
          0,
          0.17609125905568124,
          0.47186611475940454,
          0.7323937598229686,
          2.661181443446619,
          2.560667306169737,
          2.0595500541032115,
          0.20589624068172774,
          6.213074825308851,
          0.21546195095495557,
          0.9322118048842143,
          0.34933467523853623,
          2.587336734507256,
          3.7781512503836434,
          2.066946789630613,
          3.8976270912904414,
          2.8920946026904804,
          2.817659791667317,
          1.037537160313984,
          2.1383026981662816,
          4.321026624080234,
          2.3010299956639813,
          1.1965668447654791,
          2.2991809477110543,
          1.8239087409443189,
          4.678469003574394,
          1.4357285695614375,
          0.35983548233988794,
          5.720509682192128,
          3.1577876482232314,
          2.8724211672254913,
          0.5139239026274111,
          0.35983548233988794,
          2.786120180054919,
          3.484299839346786,
          0.5228787452803376,
          1.359021942641668,
          1.0133639615579815,
          0.12057393120585003,
          0.09691001300805646,
          3.744727494896694,
          3.4895305127014824,
          2.991226075692495,
          3.1346985738974564,
          1.2218487496163564,
          1.947293649483997,
          0.32005323297741156,
          2.0829742350647638,
          3.5816842319562445,
          1.764471553092451,
          5.267171728403014,
          1.346998257634716,
          1.2355284469075487,
          0.8901250098275761,
          0.07918124604762466,
          3.6020599913279625,
          4.778151250383644,
          4.045757490560676,
          0.24303804868629442,
          0.8791778295865322,
          0.5250448070368452,
          3.990759343265087,
          1.6777807052660807,
          2.8688627262213933,
          4.2153178824573985,
          4.997114311762512,
          2.911058916663219,
          2.0393706918992742,
          2.503993401119964,
          0,
          0.286789556549371,
          7.6180480967120925,
          2.8998848471167324,
          2.104735350520013,
          0.255272505103306,
          0.2632414347745815,
          0.5351132016973491,
          1.8007501773546917,
          2.8027194418743804,
          3.3689314471302314,
          0.30756086282293893,
          0.565723105880696,
          2.4406467477280938,
          4.84163750790475,
          0.36797678529459454,
          0.05115252244738122,
          2.741384482604412,
          1.9225877766912216,
          0.32585357938901327,
          4.592075770421362,
          1.0292893761019875,
          0.016635672668404378,
          0.6734158998636307,
          3.1829306835859867,
          0.07684003023272235,
          2.550907468880581,
          0.5432219947411023,
          6.390543298102736,
          3.4012463152763908,
          3.029963223377443,
          1.3796363978395878,
          0.7282593804380066,
          2.7051303130408373,
          3.974445895527612,
          0.37106786227173627,
          2.9866360384420183,
          4.181728194238432,
          2.1421326313756204,
          2.065118178584205,
          4.610028920999238,
          1.867223086237415,
          2.8239087409443187,
          1.3508016123949769,
          1.0791812460476247,
          3.150785393790911,
          1.0591641325257377,
          1.5385105682941411,
          0.13683795990800762,
          5.269621531412358,
          4.345233658156035,
          1.1678187330896912,
          3.2692177243336107,
          1,
          2.9777236052888476,
          2.4286088284384895,
          2.41161970596323,
          4.2466723333413885,
          1.678448337191417,
          4.660511752516843,
          2.765916793966632,
          3.6918045799483443,
          0.6642078980768068,
          2.3010299956639813,
          2.6368220975871743,
          2.0133943895054367,
          1.7316938491446423,
          4.84163750790475,
          1.576252727721677,
          1.1494990317639446,
          2.191128583673045
         ],
         "xaxis": "x",
         "yaxis": "y"
        }
       ],
       "layout": {
        "barmode": "relative",
        "font": {
         "size": 12
        },
        "height": 600,
        "legend": {
         "tracegroupgap": 0
        },
        "template": {
         "data": {
          "bar": [
           {
            "error_x": {
             "color": "#2a3f5f"
            },
            "error_y": {
             "color": "#2a3f5f"
            },
            "marker": {
             "line": {
              "color": "#E5ECF6",
              "width": 0.5
             },
             "pattern": {
              "fillmode": "overlay",
              "size": 10,
              "solidity": 0.2
             }
            },
            "type": "bar"
           }
          ],
          "barpolar": [
           {
            "marker": {
             "line": {
              "color": "#E5ECF6",
              "width": 0.5
             },
             "pattern": {
              "fillmode": "overlay",
              "size": 10,
              "solidity": 0.2
             }
            },
            "type": "barpolar"
           }
          ],
          "carpet": [
           {
            "aaxis": {
             "endlinecolor": "#2a3f5f",
             "gridcolor": "white",
             "linecolor": "white",
             "minorgridcolor": "white",
             "startlinecolor": "#2a3f5f"
            },
            "baxis": {
             "endlinecolor": "#2a3f5f",
             "gridcolor": "white",
             "linecolor": "white",
             "minorgridcolor": "white",
             "startlinecolor": "#2a3f5f"
            },
            "type": "carpet"
           }
          ],
          "choropleth": [
           {
            "colorbar": {
             "outlinewidth": 0,
             "ticks": ""
            },
            "type": "choropleth"
           }
          ],
          "contour": [
           {
            "colorbar": {
             "outlinewidth": 0,
             "ticks": ""
            },
            "colorscale": [
             [
              0,
              "#0d0887"
             ],
             [
              0.1111111111111111,
              "#46039f"
             ],
             [
              0.2222222222222222,
              "#7201a8"
             ],
             [
              0.3333333333333333,
              "#9c179e"
             ],
             [
              0.4444444444444444,
              "#bd3786"
             ],
             [
              0.5555555555555556,
              "#d8576b"
             ],
             [
              0.6666666666666666,
              "#ed7953"
             ],
             [
              0.7777777777777778,
              "#fb9f3a"
             ],
             [
              0.8888888888888888,
              "#fdca26"
             ],
             [
              1,
              "#f0f921"
             ]
            ],
            "type": "contour"
           }
          ],
          "contourcarpet": [
           {
            "colorbar": {
             "outlinewidth": 0,
             "ticks": ""
            },
            "type": "contourcarpet"
           }
          ],
          "heatmap": [
           {
            "colorbar": {
             "outlinewidth": 0,
             "ticks": ""
            },
            "colorscale": [
             [
              0,
              "#0d0887"
             ],
             [
              0.1111111111111111,
              "#46039f"
             ],
             [
              0.2222222222222222,
              "#7201a8"
             ],
             [
              0.3333333333333333,
              "#9c179e"
             ],
             [
              0.4444444444444444,
              "#bd3786"
             ],
             [
              0.5555555555555556,
              "#d8576b"
             ],
             [
              0.6666666666666666,
              "#ed7953"
             ],
             [
              0.7777777777777778,
              "#fb9f3a"
             ],
             [
              0.8888888888888888,
              "#fdca26"
             ],
             [
              1,
              "#f0f921"
             ]
            ],
            "type": "heatmap"
           }
          ],
          "heatmapgl": [
           {
            "colorbar": {
             "outlinewidth": 0,
             "ticks": ""
            },
            "colorscale": [
             [
              0,
              "#0d0887"
             ],
             [
              0.1111111111111111,
              "#46039f"
             ],
             [
              0.2222222222222222,
              "#7201a8"
             ],
             [
              0.3333333333333333,
              "#9c179e"
             ],
             [
              0.4444444444444444,
              "#bd3786"
             ],
             [
              0.5555555555555556,
              "#d8576b"
             ],
             [
              0.6666666666666666,
              "#ed7953"
             ],
             [
              0.7777777777777778,
              "#fb9f3a"
             ],
             [
              0.8888888888888888,
              "#fdca26"
             ],
             [
              1,
              "#f0f921"
             ]
            ],
            "type": "heatmapgl"
           }
          ],
          "histogram": [
           {
            "marker": {
             "pattern": {
              "fillmode": "overlay",
              "size": 10,
              "solidity": 0.2
             }
            },
            "type": "histogram"
           }
          ],
          "histogram2d": [
           {
            "colorbar": {
             "outlinewidth": 0,
             "ticks": ""
            },
            "colorscale": [
             [
              0,
              "#0d0887"
             ],
             [
              0.1111111111111111,
              "#46039f"
             ],
             [
              0.2222222222222222,
              "#7201a8"
             ],
             [
              0.3333333333333333,
              "#9c179e"
             ],
             [
              0.4444444444444444,
              "#bd3786"
             ],
             [
              0.5555555555555556,
              "#d8576b"
             ],
             [
              0.6666666666666666,
              "#ed7953"
             ],
             [
              0.7777777777777778,
              "#fb9f3a"
             ],
             [
              0.8888888888888888,
              "#fdca26"
             ],
             [
              1,
              "#f0f921"
             ]
            ],
            "type": "histogram2d"
           }
          ],
          "histogram2dcontour": [
           {
            "colorbar": {
             "outlinewidth": 0,
             "ticks": ""
            },
            "colorscale": [
             [
              0,
              "#0d0887"
             ],
             [
              0.1111111111111111,
              "#46039f"
             ],
             [
              0.2222222222222222,
              "#7201a8"
             ],
             [
              0.3333333333333333,
              "#9c179e"
             ],
             [
              0.4444444444444444,
              "#bd3786"
             ],
             [
              0.5555555555555556,
              "#d8576b"
             ],
             [
              0.6666666666666666,
              "#ed7953"
             ],
             [
              0.7777777777777778,
              "#fb9f3a"
             ],
             [
              0.8888888888888888,
              "#fdca26"
             ],
             [
              1,
              "#f0f921"
             ]
            ],
            "type": "histogram2dcontour"
           }
          ],
          "mesh3d": [
           {
            "colorbar": {
             "outlinewidth": 0,
             "ticks": ""
            },
            "type": "mesh3d"
           }
          ],
          "parcoords": [
           {
            "line": {
             "colorbar": {
              "outlinewidth": 0,
              "ticks": ""
             }
            },
            "type": "parcoords"
           }
          ],
          "pie": [
           {
            "automargin": true,
            "type": "pie"
           }
          ],
          "scatter": [
           {
            "fillpattern": {
             "fillmode": "overlay",
             "size": 10,
             "solidity": 0.2
            },
            "type": "scatter"
           }
          ],
          "scatter3d": [
           {
            "line": {
             "colorbar": {
              "outlinewidth": 0,
              "ticks": ""
             }
            },
            "marker": {
             "colorbar": {
              "outlinewidth": 0,
              "ticks": ""
             }
            },
            "type": "scatter3d"
           }
          ],
          "scattercarpet": [
           {
            "marker": {
             "colorbar": {
              "outlinewidth": 0,
              "ticks": ""
             }
            },
            "type": "scattercarpet"
           }
          ],
          "scattergeo": [
           {
            "marker": {
             "colorbar": {
              "outlinewidth": 0,
              "ticks": ""
             }
            },
            "type": "scattergeo"
           }
          ],
          "scattergl": [
           {
            "marker": {
             "colorbar": {
              "outlinewidth": 0,
              "ticks": ""
             }
            },
            "type": "scattergl"
           }
          ],
          "scattermapbox": [
           {
            "marker": {
             "colorbar": {
              "outlinewidth": 0,
              "ticks": ""
             }
            },
            "type": "scattermapbox"
           }
          ],
          "scatterpolar": [
           {
            "marker": {
             "colorbar": {
              "outlinewidth": 0,
              "ticks": ""
             }
            },
            "type": "scatterpolar"
           }
          ],
          "scatterpolargl": [
           {
            "marker": {
             "colorbar": {
              "outlinewidth": 0,
              "ticks": ""
             }
            },
            "type": "scatterpolargl"
           }
          ],
          "scatterternary": [
           {
            "marker": {
             "colorbar": {
              "outlinewidth": 0,
              "ticks": ""
             }
            },
            "type": "scatterternary"
           }
          ],
          "surface": [
           {
            "colorbar": {
             "outlinewidth": 0,
             "ticks": ""
            },
            "colorscale": [
             [
              0,
              "#0d0887"
             ],
             [
              0.1111111111111111,
              "#46039f"
             ],
             [
              0.2222222222222222,
              "#7201a8"
             ],
             [
              0.3333333333333333,
              "#9c179e"
             ],
             [
              0.4444444444444444,
              "#bd3786"
             ],
             [
              0.5555555555555556,
              "#d8576b"
             ],
             [
              0.6666666666666666,
              "#ed7953"
             ],
             [
              0.7777777777777778,
              "#fb9f3a"
             ],
             [
              0.8888888888888888,
              "#fdca26"
             ],
             [
              1,
              "#f0f921"
             ]
            ],
            "type": "surface"
           }
          ],
          "table": [
           {
            "cells": {
             "fill": {
              "color": "#EBF0F8"
             },
             "line": {
              "color": "white"
             }
            },
            "header": {
             "fill": {
              "color": "#C8D4E3"
             },
             "line": {
              "color": "white"
             }
            },
            "type": "table"
           }
          ]
         },
         "layout": {
          "annotationdefaults": {
           "arrowcolor": "#2a3f5f",
           "arrowhead": 0,
           "arrowwidth": 1
          },
          "autotypenumbers": "strict",
          "coloraxis": {
           "colorbar": {
            "outlinewidth": 0,
            "ticks": ""
           }
          },
          "colorscale": {
           "diverging": [
            [
             0,
             "#8e0152"
            ],
            [
             0.1,
             "#c51b7d"
            ],
            [
             0.2,
             "#de77ae"
            ],
            [
             0.3,
             "#f1b6da"
            ],
            [
             0.4,
             "#fde0ef"
            ],
            [
             0.5,
             "#f7f7f7"
            ],
            [
             0.6,
             "#e6f5d0"
            ],
            [
             0.7,
             "#b8e186"
            ],
            [
             0.8,
             "#7fbc41"
            ],
            [
             0.9,
             "#4d9221"
            ],
            [
             1,
             "#276419"
            ]
           ],
           "sequential": [
            [
             0,
             "#0d0887"
            ],
            [
             0.1111111111111111,
             "#46039f"
            ],
            [
             0.2222222222222222,
             "#7201a8"
            ],
            [
             0.3333333333333333,
             "#9c179e"
            ],
            [
             0.4444444444444444,
             "#bd3786"
            ],
            [
             0.5555555555555556,
             "#d8576b"
            ],
            [
             0.6666666666666666,
             "#ed7953"
            ],
            [
             0.7777777777777778,
             "#fb9f3a"
            ],
            [
             0.8888888888888888,
             "#fdca26"
            ],
            [
             1,
             "#f0f921"
            ]
           ],
           "sequentialminus": [
            [
             0,
             "#0d0887"
            ],
            [
             0.1111111111111111,
             "#46039f"
            ],
            [
             0.2222222222222222,
             "#7201a8"
            ],
            [
             0.3333333333333333,
             "#9c179e"
            ],
            [
             0.4444444444444444,
             "#bd3786"
            ],
            [
             0.5555555555555556,
             "#d8576b"
            ],
            [
             0.6666666666666666,
             "#ed7953"
            ],
            [
             0.7777777777777778,
             "#fb9f3a"
            ],
            [
             0.8888888888888888,
             "#fdca26"
            ],
            [
             1,
             "#f0f921"
            ]
           ]
          },
          "colorway": [
           "#636efa",
           "#EF553B",
           "#00cc96",
           "#ab63fa",
           "#FFA15A",
           "#19d3f3",
           "#FF6692",
           "#B6E880",
           "#FF97FF",
           "#FECB52"
          ],
          "font": {
           "color": "#2a3f5f"
          },
          "geo": {
           "bgcolor": "white",
           "lakecolor": "white",
           "landcolor": "#E5ECF6",
           "showlakes": true,
           "showland": true,
           "subunitcolor": "white"
          },
          "hoverlabel": {
           "align": "left"
          },
          "hovermode": "closest",
          "mapbox": {
           "style": "light"
          },
          "paper_bgcolor": "white",
          "plot_bgcolor": "#E5ECF6",
          "polar": {
           "angularaxis": {
            "gridcolor": "white",
            "linecolor": "white",
            "ticks": ""
           },
           "bgcolor": "#E5ECF6",
           "radialaxis": {
            "gridcolor": "white",
            "linecolor": "white",
            "ticks": ""
           }
          },
          "scene": {
           "xaxis": {
            "backgroundcolor": "#E5ECF6",
            "gridcolor": "white",
            "gridwidth": 2,
            "linecolor": "white",
            "showbackground": true,
            "ticks": "",
            "zerolinecolor": "white"
           },
           "yaxis": {
            "backgroundcolor": "#E5ECF6",
            "gridcolor": "white",
            "gridwidth": 2,
            "linecolor": "white",
            "showbackground": true,
            "ticks": "",
            "zerolinecolor": "white"
           },
           "zaxis": {
            "backgroundcolor": "#E5ECF6",
            "gridcolor": "white",
            "gridwidth": 2,
            "linecolor": "white",
            "showbackground": true,
            "ticks": "",
            "zerolinecolor": "white"
           }
          },
          "shapedefaults": {
           "line": {
            "color": "#2a3f5f"
           }
          },
          "ternary": {
           "aaxis": {
            "gridcolor": "white",
            "linecolor": "white",
            "ticks": ""
           },
           "baxis": {
            "gridcolor": "white",
            "linecolor": "white",
            "ticks": ""
           },
           "bgcolor": "#E5ECF6",
           "caxis": {
            "gridcolor": "white",
            "linecolor": "white",
            "ticks": ""
           }
          },
          "title": {
           "x": 0.05
          },
          "xaxis": {
           "automargin": true,
           "gridcolor": "white",
           "linecolor": "white",
           "ticks": "",
           "title": {
            "standoff": 15
           },
           "zerolinecolor": "white",
           "zerolinewidth": 2
          },
          "yaxis": {
           "automargin": true,
           "gridcolor": "white",
           "linecolor": "white",
           "ticks": "",
           "title": {
            "standoff": 15
           },
           "zerolinecolor": "white",
           "zerolinewidth": 2
          }
         }
        },
        "title": {
         "font": {
          "size": 20
         },
         "text": "Test Error of Random Assignment (logscaled)",
         "x": 0.5
        },
        "width": 1000,
        "xaxis": {
         "anchor": "y",
         "domain": [
          0,
          1
         ],
         "tickfont": {
          "size": 12
         },
         "title": {
          "text": "Absolute Error of Log Ki"
         }
        },
        "yaxis": {
         "anchor": "x",
         "domain": [
          0,
          1
         ],
         "tickfont": {
          "size": 12
         },
         "title": {
          "text": "Count"
         }
        }
       }
      }
     },
     "metadata": {},
     "output_type": "display_data"
    },
    {
     "name": "stdout",
     "output_type": "stream",
     "text": [
      "Figure saved to plots\\random_test.html\n"
     ]
    }
   ],
   "source": [
    "plot_error_histogram(pred_random, y_test_scaled, title=\"Test Error of Random Assignment (logscaled)\", save_path='plots\\\\random_test')"
   ]
  },
  {
   "cell_type": "code",
   "execution_count": 91,
   "metadata": {},
   "outputs": [
    {
     "data": {
      "application/vnd.plotly.v1+json": {
       "config": {
        "plotlyServerURL": "https://plot.ly"
       },
       "data": [
        {
         "alignmentgroup": "True",
         "bingroup": "x",
         "hovertemplate": "Absolute Error of Log Ki=%{x}<br>count=%{y}<extra></extra>",
         "legendgroup": "",
         "marker": {
          "color": "#636efa",
          "pattern": {
           "shape": ""
          }
         },
         "name": "",
         "nbinsx": 100,
         "offsetgroup": "",
         "orientation": "v",
         "showlegend": false,
         "type": "histogram",
         "x": [
          1.6472935253630188,
          0.3317519845457667,
          0.741115614183693,
          2.260072804512088,
          0.4518881529026282,
          1.2395914366192984,
          1.6472935253630188,
          0.23865629359449048,
          0.17244069474644752,
          0.15960923128843596,
          0.7613727130486617,
          0.23989422402333327,
          1.0140528603560124,
          1.0362911640020065,
          0.3692901225838847,
          1.8307331207072952,
          0.1219862854267938,
          1.7589350954445044,
          0.4668004234945504,
          2.667059809751916,
          1.2063991230380693,
          0.6882629773404293,
          2.179065721027668,
          0.29199401707104106,
          0.35488269526768235,
          0.791970709191036,
          1.1608162827605897,
          0.7728435415881733,
          1.5082934293396375,
          0.6052228979531931,
          0.2289064564666401,
          0.7900954162520686,
          1.174596911855546,
          1.2106022442229625,
          1.3236150335499592,
          1.111886920551201,
          0.014321257393924647,
          0.1176709505010557,
          0.11150179779644187,
          1.4375171366244701,
          0.0031860433222083984,
          0.12237245104141703,
          2.547964093736857,
          0.05556117569547836,
          2.537283433985725,
          1.0763846961677421,
          2.4716173753734467,
          1.3790304876239254,
          1.247556350466657,
          1.8332342746493346,
          1.2134733509275746,
          0.42460258912042437,
          0.7527956953752419,
          1.8454434983769201,
          0.3999285301861658,
          2.0552935631860194,
          0.8862378666226876,
          1.197045572640175,
          0.36233261108876524,
          2.2532758628643386,
          0.0031860433222083984,
          0.045701474710745704,
          3.6984130999914795,
          0.34190666472167663,
          0.7710425610421567,
          0.9011505653140155,
          1.196992301991702,
          0.3314767206990524,
          2.406275914837533,
          1.943974437796537,
          1.6736594347456344,
          0.47799775921142695,
          2.090414120747374,
          0.5663056082397491,
          1.173272439386605,
          1.5433030939811776,
          0.5717956045589564,
          1.2942625076691512,
          0.8466437500880915,
          1.8788342148239452,
          0.3181797957041288,
          1.04474582893683,
          0.13006816131546262,
          0.11998004459978961,
          5.040671808967793,
          0.09685903022391495,
          0.8434484008120674,
          0.1617888227225588,
          1.870108224222741,
          0.010184544412593421,
          1.3119264807926152,
          2.0143458522480495,
          2.1744062563020403,
          0.5453797380898402,
          0.45477198261798213,
          0.37385022297526993,
          3.6308869683806355,
          1.0621293833198227,
          1.109492000738028,
          1.6968807028312975,
          1.5793563627394456,
          1.329326013336884,
          0.11814298263986645,
          0.15727202418343544,
          3.3571818060498178,
          0.8131224944391707,
          0.8048166682555289,
          0.5496985176380493,
          0.8930146364542124,
          1.5874554707132584,
          2.326781645260377,
          0.030677820543262915,
          0.6579026157382255,
          0.02400076719403721,
          0.16244572965674253,
          0.6580453157824284,
          0.3044375052304882,
          0.5971124827634693,
          0.949451865843161,
          1.3140613836537653,
          0.6143764290882319,
          1.145289334278492,
          1.5471186156895063,
          1.0209957700594743,
          0.5062203115108093,
          0.2223323390564318,
          1.4010942468305658,
          1.6513784235057842,
          0.2328899685559367,
          0.46451077897308557,
          0.36161749891724404,
          0.10142442944152219,
          0.4891811228282612,
          0.5752507912621032,
          0.37459066579860245,
          2.0059895829273486,
          0.09350250344154931,
          1.8947051791867104,
          0.7220099894906855,
          1.7552779249479822,
          0.7789993810588965,
          0.7639792071380463,
          0.9614243574214217,
          0.3307074193164832,
          0.45301319908210613,
          0.7364359235016633,
          0.6765413307754615,
          2.882806517071806,
          0.7192123903565841,
          0.2378856169805651,
          0.29511668553527814,
          0.5938211976800891,
          0.002924510246115758,
          0.8525207682425002,
          0.9696784314872463,
          3.5295033557786053,
          0.805509241754541,
          1.8704094191710237,
          0.5683860200466138,
          0.7436379870408367,
          0.12297039711111957,
          0.8297740756807361,
          0.2566876697643645,
          0.8100676431088181,
          0.14598335694478648,
          0.15531545736710328,
          1.9175891300136225,
          0.21626559804638168,
          0.3432956602412648,
          0.05991650422787642,
          0.2049458868500933,
          0.5247191199004332,
          0.6199650239658985,
          0.35865776969029284,
          3.4477648413332673,
          0.4643827603925428,
          1.470215945556159,
          1.8202422303951877,
          0.5556973155610135,
          0.3980099685086327,
          0.1593304630807877,
          0.7478688846631093,
          2.342413314572007,
          0.2496392319135139,
          1.275998258237901,
          1.4405001761828,
          0.8934911642514132,
          0.49788802802707544,
          0.11317781723663667,
          0.7757930778396253,
          0.5980973140737966,
          0.9140545582524685,
          0.3111443692156284,
          0.32503579269946525,
          0.14010573477707888,
          0.5994008160547106,
          1.5004397632020372,
          1.6238251499290228,
          0.21048553578491913,
          1.2686664447090634,
          0.36714703005215776,
          0.21819911218364707,
          0.2680878459175211,
          0.10903225854989385,
          0.7043315101779823,
          0.8606184283322978,
          0.15531545736710328,
          0.2905625458940585,
          1.3939924214578792,
          0.3785915904529522,
          0.42833003653832435,
          1.3332945811042674,
          1.776974177309739,
          0.2531559246065511,
          0.08974052984554093,
          0.9109813158229761
         ],
         "xaxis": "x",
         "yaxis": "y"
        }
       ],
       "layout": {
        "barmode": "relative",
        "font": {
         "size": 12
        },
        "height": 600,
        "legend": {
         "tracegroupgap": 0
        },
        "template": {
         "data": {
          "bar": [
           {
            "error_x": {
             "color": "#2a3f5f"
            },
            "error_y": {
             "color": "#2a3f5f"
            },
            "marker": {
             "line": {
              "color": "#E5ECF6",
              "width": 0.5
             },
             "pattern": {
              "fillmode": "overlay",
              "size": 10,
              "solidity": 0.2
             }
            },
            "type": "bar"
           }
          ],
          "barpolar": [
           {
            "marker": {
             "line": {
              "color": "#E5ECF6",
              "width": 0.5
             },
             "pattern": {
              "fillmode": "overlay",
              "size": 10,
              "solidity": 0.2
             }
            },
            "type": "barpolar"
           }
          ],
          "carpet": [
           {
            "aaxis": {
             "endlinecolor": "#2a3f5f",
             "gridcolor": "white",
             "linecolor": "white",
             "minorgridcolor": "white",
             "startlinecolor": "#2a3f5f"
            },
            "baxis": {
             "endlinecolor": "#2a3f5f",
             "gridcolor": "white",
             "linecolor": "white",
             "minorgridcolor": "white",
             "startlinecolor": "#2a3f5f"
            },
            "type": "carpet"
           }
          ],
          "choropleth": [
           {
            "colorbar": {
             "outlinewidth": 0,
             "ticks": ""
            },
            "type": "choropleth"
           }
          ],
          "contour": [
           {
            "colorbar": {
             "outlinewidth": 0,
             "ticks": ""
            },
            "colorscale": [
             [
              0,
              "#0d0887"
             ],
             [
              0.1111111111111111,
              "#46039f"
             ],
             [
              0.2222222222222222,
              "#7201a8"
             ],
             [
              0.3333333333333333,
              "#9c179e"
             ],
             [
              0.4444444444444444,
              "#bd3786"
             ],
             [
              0.5555555555555556,
              "#d8576b"
             ],
             [
              0.6666666666666666,
              "#ed7953"
             ],
             [
              0.7777777777777778,
              "#fb9f3a"
             ],
             [
              0.8888888888888888,
              "#fdca26"
             ],
             [
              1,
              "#f0f921"
             ]
            ],
            "type": "contour"
           }
          ],
          "contourcarpet": [
           {
            "colorbar": {
             "outlinewidth": 0,
             "ticks": ""
            },
            "type": "contourcarpet"
           }
          ],
          "heatmap": [
           {
            "colorbar": {
             "outlinewidth": 0,
             "ticks": ""
            },
            "colorscale": [
             [
              0,
              "#0d0887"
             ],
             [
              0.1111111111111111,
              "#46039f"
             ],
             [
              0.2222222222222222,
              "#7201a8"
             ],
             [
              0.3333333333333333,
              "#9c179e"
             ],
             [
              0.4444444444444444,
              "#bd3786"
             ],
             [
              0.5555555555555556,
              "#d8576b"
             ],
             [
              0.6666666666666666,
              "#ed7953"
             ],
             [
              0.7777777777777778,
              "#fb9f3a"
             ],
             [
              0.8888888888888888,
              "#fdca26"
             ],
             [
              1,
              "#f0f921"
             ]
            ],
            "type": "heatmap"
           }
          ],
          "heatmapgl": [
           {
            "colorbar": {
             "outlinewidth": 0,
             "ticks": ""
            },
            "colorscale": [
             [
              0,
              "#0d0887"
             ],
             [
              0.1111111111111111,
              "#46039f"
             ],
             [
              0.2222222222222222,
              "#7201a8"
             ],
             [
              0.3333333333333333,
              "#9c179e"
             ],
             [
              0.4444444444444444,
              "#bd3786"
             ],
             [
              0.5555555555555556,
              "#d8576b"
             ],
             [
              0.6666666666666666,
              "#ed7953"
             ],
             [
              0.7777777777777778,
              "#fb9f3a"
             ],
             [
              0.8888888888888888,
              "#fdca26"
             ],
             [
              1,
              "#f0f921"
             ]
            ],
            "type": "heatmapgl"
           }
          ],
          "histogram": [
           {
            "marker": {
             "pattern": {
              "fillmode": "overlay",
              "size": 10,
              "solidity": 0.2
             }
            },
            "type": "histogram"
           }
          ],
          "histogram2d": [
           {
            "colorbar": {
             "outlinewidth": 0,
             "ticks": ""
            },
            "colorscale": [
             [
              0,
              "#0d0887"
             ],
             [
              0.1111111111111111,
              "#46039f"
             ],
             [
              0.2222222222222222,
              "#7201a8"
             ],
             [
              0.3333333333333333,
              "#9c179e"
             ],
             [
              0.4444444444444444,
              "#bd3786"
             ],
             [
              0.5555555555555556,
              "#d8576b"
             ],
             [
              0.6666666666666666,
              "#ed7953"
             ],
             [
              0.7777777777777778,
              "#fb9f3a"
             ],
             [
              0.8888888888888888,
              "#fdca26"
             ],
             [
              1,
              "#f0f921"
             ]
            ],
            "type": "histogram2d"
           }
          ],
          "histogram2dcontour": [
           {
            "colorbar": {
             "outlinewidth": 0,
             "ticks": ""
            },
            "colorscale": [
             [
              0,
              "#0d0887"
             ],
             [
              0.1111111111111111,
              "#46039f"
             ],
             [
              0.2222222222222222,
              "#7201a8"
             ],
             [
              0.3333333333333333,
              "#9c179e"
             ],
             [
              0.4444444444444444,
              "#bd3786"
             ],
             [
              0.5555555555555556,
              "#d8576b"
             ],
             [
              0.6666666666666666,
              "#ed7953"
             ],
             [
              0.7777777777777778,
              "#fb9f3a"
             ],
             [
              0.8888888888888888,
              "#fdca26"
             ],
             [
              1,
              "#f0f921"
             ]
            ],
            "type": "histogram2dcontour"
           }
          ],
          "mesh3d": [
           {
            "colorbar": {
             "outlinewidth": 0,
             "ticks": ""
            },
            "type": "mesh3d"
           }
          ],
          "parcoords": [
           {
            "line": {
             "colorbar": {
              "outlinewidth": 0,
              "ticks": ""
             }
            },
            "type": "parcoords"
           }
          ],
          "pie": [
           {
            "automargin": true,
            "type": "pie"
           }
          ],
          "scatter": [
           {
            "fillpattern": {
             "fillmode": "overlay",
             "size": 10,
             "solidity": 0.2
            },
            "type": "scatter"
           }
          ],
          "scatter3d": [
           {
            "line": {
             "colorbar": {
              "outlinewidth": 0,
              "ticks": ""
             }
            },
            "marker": {
             "colorbar": {
              "outlinewidth": 0,
              "ticks": ""
             }
            },
            "type": "scatter3d"
           }
          ],
          "scattercarpet": [
           {
            "marker": {
             "colorbar": {
              "outlinewidth": 0,
              "ticks": ""
             }
            },
            "type": "scattercarpet"
           }
          ],
          "scattergeo": [
           {
            "marker": {
             "colorbar": {
              "outlinewidth": 0,
              "ticks": ""
             }
            },
            "type": "scattergeo"
           }
          ],
          "scattergl": [
           {
            "marker": {
             "colorbar": {
              "outlinewidth": 0,
              "ticks": ""
             }
            },
            "type": "scattergl"
           }
          ],
          "scattermapbox": [
           {
            "marker": {
             "colorbar": {
              "outlinewidth": 0,
              "ticks": ""
             }
            },
            "type": "scattermapbox"
           }
          ],
          "scatterpolar": [
           {
            "marker": {
             "colorbar": {
              "outlinewidth": 0,
              "ticks": ""
             }
            },
            "type": "scatterpolar"
           }
          ],
          "scatterpolargl": [
           {
            "marker": {
             "colorbar": {
              "outlinewidth": 0,
              "ticks": ""
             }
            },
            "type": "scatterpolargl"
           }
          ],
          "scatterternary": [
           {
            "marker": {
             "colorbar": {
              "outlinewidth": 0,
              "ticks": ""
             }
            },
            "type": "scatterternary"
           }
          ],
          "surface": [
           {
            "colorbar": {
             "outlinewidth": 0,
             "ticks": ""
            },
            "colorscale": [
             [
              0,
              "#0d0887"
             ],
             [
              0.1111111111111111,
              "#46039f"
             ],
             [
              0.2222222222222222,
              "#7201a8"
             ],
             [
              0.3333333333333333,
              "#9c179e"
             ],
             [
              0.4444444444444444,
              "#bd3786"
             ],
             [
              0.5555555555555556,
              "#d8576b"
             ],
             [
              0.6666666666666666,
              "#ed7953"
             ],
             [
              0.7777777777777778,
              "#fb9f3a"
             ],
             [
              0.8888888888888888,
              "#fdca26"
             ],
             [
              1,
              "#f0f921"
             ]
            ],
            "type": "surface"
           }
          ],
          "table": [
           {
            "cells": {
             "fill": {
              "color": "#EBF0F8"
             },
             "line": {
              "color": "white"
             }
            },
            "header": {
             "fill": {
              "color": "#C8D4E3"
             },
             "line": {
              "color": "white"
             }
            },
            "type": "table"
           }
          ]
         },
         "layout": {
          "annotationdefaults": {
           "arrowcolor": "#2a3f5f",
           "arrowhead": 0,
           "arrowwidth": 1
          },
          "autotypenumbers": "strict",
          "coloraxis": {
           "colorbar": {
            "outlinewidth": 0,
            "ticks": ""
           }
          },
          "colorscale": {
           "diverging": [
            [
             0,
             "#8e0152"
            ],
            [
             0.1,
             "#c51b7d"
            ],
            [
             0.2,
             "#de77ae"
            ],
            [
             0.3,
             "#f1b6da"
            ],
            [
             0.4,
             "#fde0ef"
            ],
            [
             0.5,
             "#f7f7f7"
            ],
            [
             0.6,
             "#e6f5d0"
            ],
            [
             0.7,
             "#b8e186"
            ],
            [
             0.8,
             "#7fbc41"
            ],
            [
             0.9,
             "#4d9221"
            ],
            [
             1,
             "#276419"
            ]
           ],
           "sequential": [
            [
             0,
             "#0d0887"
            ],
            [
             0.1111111111111111,
             "#46039f"
            ],
            [
             0.2222222222222222,
             "#7201a8"
            ],
            [
             0.3333333333333333,
             "#9c179e"
            ],
            [
             0.4444444444444444,
             "#bd3786"
            ],
            [
             0.5555555555555556,
             "#d8576b"
            ],
            [
             0.6666666666666666,
             "#ed7953"
            ],
            [
             0.7777777777777778,
             "#fb9f3a"
            ],
            [
             0.8888888888888888,
             "#fdca26"
            ],
            [
             1,
             "#f0f921"
            ]
           ],
           "sequentialminus": [
            [
             0,
             "#0d0887"
            ],
            [
             0.1111111111111111,
             "#46039f"
            ],
            [
             0.2222222222222222,
             "#7201a8"
            ],
            [
             0.3333333333333333,
             "#9c179e"
            ],
            [
             0.4444444444444444,
             "#bd3786"
            ],
            [
             0.5555555555555556,
             "#d8576b"
            ],
            [
             0.6666666666666666,
             "#ed7953"
            ],
            [
             0.7777777777777778,
             "#fb9f3a"
            ],
            [
             0.8888888888888888,
             "#fdca26"
            ],
            [
             1,
             "#f0f921"
            ]
           ]
          },
          "colorway": [
           "#636efa",
           "#EF553B",
           "#00cc96",
           "#ab63fa",
           "#FFA15A",
           "#19d3f3",
           "#FF6692",
           "#B6E880",
           "#FF97FF",
           "#FECB52"
          ],
          "font": {
           "color": "#2a3f5f"
          },
          "geo": {
           "bgcolor": "white",
           "lakecolor": "white",
           "landcolor": "#E5ECF6",
           "showlakes": true,
           "showland": true,
           "subunitcolor": "white"
          },
          "hoverlabel": {
           "align": "left"
          },
          "hovermode": "closest",
          "mapbox": {
           "style": "light"
          },
          "paper_bgcolor": "white",
          "plot_bgcolor": "#E5ECF6",
          "polar": {
           "angularaxis": {
            "gridcolor": "white",
            "linecolor": "white",
            "ticks": ""
           },
           "bgcolor": "#E5ECF6",
           "radialaxis": {
            "gridcolor": "white",
            "linecolor": "white",
            "ticks": ""
           }
          },
          "scene": {
           "xaxis": {
            "backgroundcolor": "#E5ECF6",
            "gridcolor": "white",
            "gridwidth": 2,
            "linecolor": "white",
            "showbackground": true,
            "ticks": "",
            "zerolinecolor": "white"
           },
           "yaxis": {
            "backgroundcolor": "#E5ECF6",
            "gridcolor": "white",
            "gridwidth": 2,
            "linecolor": "white",
            "showbackground": true,
            "ticks": "",
            "zerolinecolor": "white"
           },
           "zaxis": {
            "backgroundcolor": "#E5ECF6",
            "gridcolor": "white",
            "gridwidth": 2,
            "linecolor": "white",
            "showbackground": true,
            "ticks": "",
            "zerolinecolor": "white"
           }
          },
          "shapedefaults": {
           "line": {
            "color": "#2a3f5f"
           }
          },
          "ternary": {
           "aaxis": {
            "gridcolor": "white",
            "linecolor": "white",
            "ticks": ""
           },
           "baxis": {
            "gridcolor": "white",
            "linecolor": "white",
            "ticks": ""
           },
           "bgcolor": "#E5ECF6",
           "caxis": {
            "gridcolor": "white",
            "linecolor": "white",
            "ticks": ""
           }
          },
          "title": {
           "x": 0.05
          },
          "xaxis": {
           "automargin": true,
           "gridcolor": "white",
           "linecolor": "white",
           "ticks": "",
           "title": {
            "standoff": 15
           },
           "zerolinecolor": "white",
           "zerolinewidth": 2
          },
          "yaxis": {
           "automargin": true,
           "gridcolor": "white",
           "linecolor": "white",
           "ticks": "",
           "title": {
            "standoff": 15
           },
           "zerolinecolor": "white",
           "zerolinewidth": 2
          }
         }
        },
        "title": {
         "font": {
          "size": 20
         },
         "text": "Test Error of Linear Model",
         "x": 0.5
        },
        "width": 1000,
        "xaxis": {
         "anchor": "y",
         "domain": [
          0,
          1
         ],
         "tickfont": {
          "size": 12
         },
         "title": {
          "text": "Absolute Error of Log Ki"
         }
        },
        "yaxis": {
         "anchor": "x",
         "domain": [
          0,
          1
         ],
         "tickfont": {
          "size": 12
         },
         "title": {
          "text": "Count"
         }
        }
       }
      }
     },
     "metadata": {},
     "output_type": "display_data"
    },
    {
     "name": "stdout",
     "output_type": "stream",
     "text": [
      "Figure saved to plots\\LM_test.html\n"
     ]
    }
   ],
   "source": [
    "plot_error_histogram(pred_LM, y_test_scaled, title=\"Test Error of Linear Model\", save_path='plots\\\\LM_test')"
   ]
  },
  {
   "cell_type": "code",
   "execution_count": 92,
   "metadata": {},
   "outputs": [
    {
     "data": {
      "application/vnd.plotly.v1+json": {
       "config": {
        "plotlyServerURL": "https://plot.ly"
       },
       "data": [
        {
         "alignmentgroup": "True",
         "bingroup": "x",
         "hovertemplate": "Absolute Error of Log Ki=%{x}<br>count=%{y}<extra></extra>",
         "legendgroup": "",
         "marker": {
          "color": "#636efa",
          "pattern": {
           "shape": ""
          }
         },
         "name": "",
         "nbinsx": 100,
         "offsetgroup": "",
         "orientation": "v",
         "showlegend": false,
         "type": "histogram",
         "x": [
          0.8030123673673537,
          0.6853124387120324,
          0.6869584991613096,
          0.6447186120771511,
          0.14655623007093932,
          0.10977837323402273,
          0.8030123673673537,
          0.5062259955321832,
          0.9753618164566484,
          0.25942904626840624,
          0.08075594693416055,
          0.18448081249645742,
          0.1324820681135903,
          1.617936031259874,
          1.0978563103846501,
          0.7854690364493144,
          0.11495640091256143,
          1.79203996420843,
          0.32695691098509994,
          2.235553184003252,
          1.2320790769965426,
          0.29608214909081365,
          2.0921085089497806,
          0.165968419516847,
          0.8909241991727214,
          0.5572542061783952,
          1.3416462371924196,
          1.20590060740868,
          1.4453530411141142,
          0.41668408291701686,
          0.3127805565083478,
          0.5014578027209493,
          3.5077205537094027,
          1.1644659391168029,
          0.8018591966395547,
          1.0702128051047326,
          0.1907517037553057,
          0.2452910068943902,
          0.14271596280711618,
          1.8092585932441292,
          0.4346926690708722,
          0.5538790767900807,
          0.8764655866317339,
          0.16535019514813398,
          1.738648752147473,
          0.4300865683707552,
          1.6258968229148416,
          1.6656978816404924,
          2.2361388155325015,
          1.6172370710826531,
          1.0649643165273288,
          0.26680939414404947,
          0.27858813953369854,
          2.5661188131072743,
          1.148434039940642,
          2.5668810916833724,
          1.8852572313636675,
          0.23258731355137519,
          0.552944218391615,
          1.8271085559820632,
          0.4346926690708722,
          0.1751130625088706,
          3.2021812780368597,
          0.17641281102383977,
          0.257890906437243,
          2.3141412695814987,
          0.45319125202192434,
          0.5545922533246923,
          1.8694982294989773,
          1.0267007545687972,
          0.03855622198070696,
          0.24866920570282905,
          0.9708015076059561,
          0.9800528514393572,
          0.4639164813113814,
          0.7529437055085737,
          0.09872057845652261,
          1.00301380311996,
          0.0907152060139671,
          1.7855282358752236,
          0.06312325436426858,
          0.37441320837501646,
          0.09237297437113856,
          0.36655077563943683,
          4.941262668194436,
          0.1259219093231203,
          0.5962125926491432,
          0.20770083148397323,
          1.6407796707141429,
          0.01246013193939044,
          0.8900537645473572,
          3.6467110188402314,
          2.7491513037170496,
          0.901034229074207,
          0.7579561120837168,
          0.1946219808503653,
          4.066754213519316,
          1.2307170422601845,
          0.1795849031254213,
          0.9282977199183857,
          0.9832314266093052,
          1.1745625745589026,
          0.04680219690697718,
          0.3063306842264244,
          2.8538196718652795,
          0.3237349810351706,
          0.9531340008054974,
          0.6126389058635725,
          0.17372208632203012,
          1.4383968106702696,
          2.3913923024295363,
          1.05223789956528,
          0.4831000451663656,
          0.3502331673464698,
          1.4380922985651974,
          0.16744751064545604,
          0.12800705886910713,
          0.46582723533711534,
          0.697785555325185,
          0.9405973687718912,
          0.6322788036604245,
          1.1452650137720046,
          0.9109043212574693,
          0.6284967320488015,
          1.2890827060700039,
          0.1042561528231063,
          1.33092977783103,
          2.0495951362704576,
          1.37902392108671,
          0.15313707727625303,
          0.02169582454522745,
          0.5604817752853554,
          1.4950697704959202,
          0.3869483854376359,
          0.4037513802166972,
          1.6361670702869235,
          0.26993294980293037,
          1.823715731501383,
          0.82685581006733,
          1.0366529783903173,
          0.42339153154131026,
          0.5883059121113525,
          0.542372369122283,
          0.39237284332614997,
          1.0065286273887273,
          0.45024997334880607,
          0.542081891956143,
          3.563371325499154,
          0.5803334270903973,
          0.21527096577259136,
          0.10882568980901286,
          0.1407469421554124,
          1.0501567208118894,
          0.5517690713717511,
          0.29184630471254325,
          2.4506292188491,
          0.7416170186295377,
          1.8995524951315437,
          1.571915251394312,
          0.41630918018707397,
          0.24891428598132848,
          0.17496825869608768,
          2.786210173970362,
          0.2821915516337049,
          0.0006656910401933169,
          0.125006004629019,
          1.8836596993028651,
          0.00006808438568284281,
          0.6633491719776249,
          0.38413447474567164,
          1.281300575357859,
          0.36910438663294287,
          0.43472681428055715,
          0.2197331471853209,
          2.714048278534457,
          1.5048428463870853,
          1.115205349893901,
          0.5087756460295416,
          0.26030694332370297,
          0.5497195032628064,
          0.2779376946814487,
          1.9707787443295182,
          3.1505349114102015,
          1.6375149402708875,
          0.32801828534295074,
          1.6011693976174224,
          1.405291854573859,
          0.36239795385464224,
          0.05823568997602435,
          0.33186339436113377,
          0.39115335362253406,
          0.5465954510432728,
          0.1864754022538473,
          0.3024211414914915,
          0.8218685739158432,
          0.40046024466392954,
          1.5857222849337,
          0.587734515359654,
          0.3939696184432575,
          0.054123441420218965,
          0.28572295430082395,
          0.06665652227938201,
          0.03116430226201561,
          0.34895644063097264,
          0.04278861738952289,
          0.18869230184148877,
          0.125006004629019,
          0.03702706231095354,
          0.2577074796499661,
          0.3683453855295933,
          0.2846788385495437,
          0.1970096392963545,
          1.1326951419376832,
          0.34131131927988,
          0.5226121701343509,
          0.1872081565768149
         ],
         "xaxis": "x",
         "yaxis": "y"
        }
       ],
       "layout": {
        "barmode": "relative",
        "font": {
         "size": 12
        },
        "height": 600,
        "legend": {
         "tracegroupgap": 0
        },
        "template": {
         "data": {
          "bar": [
           {
            "error_x": {
             "color": "#2a3f5f"
            },
            "error_y": {
             "color": "#2a3f5f"
            },
            "marker": {
             "line": {
              "color": "#E5ECF6",
              "width": 0.5
             },
             "pattern": {
              "fillmode": "overlay",
              "size": 10,
              "solidity": 0.2
             }
            },
            "type": "bar"
           }
          ],
          "barpolar": [
           {
            "marker": {
             "line": {
              "color": "#E5ECF6",
              "width": 0.5
             },
             "pattern": {
              "fillmode": "overlay",
              "size": 10,
              "solidity": 0.2
             }
            },
            "type": "barpolar"
           }
          ],
          "carpet": [
           {
            "aaxis": {
             "endlinecolor": "#2a3f5f",
             "gridcolor": "white",
             "linecolor": "white",
             "minorgridcolor": "white",
             "startlinecolor": "#2a3f5f"
            },
            "baxis": {
             "endlinecolor": "#2a3f5f",
             "gridcolor": "white",
             "linecolor": "white",
             "minorgridcolor": "white",
             "startlinecolor": "#2a3f5f"
            },
            "type": "carpet"
           }
          ],
          "choropleth": [
           {
            "colorbar": {
             "outlinewidth": 0,
             "ticks": ""
            },
            "type": "choropleth"
           }
          ],
          "contour": [
           {
            "colorbar": {
             "outlinewidth": 0,
             "ticks": ""
            },
            "colorscale": [
             [
              0,
              "#0d0887"
             ],
             [
              0.1111111111111111,
              "#46039f"
             ],
             [
              0.2222222222222222,
              "#7201a8"
             ],
             [
              0.3333333333333333,
              "#9c179e"
             ],
             [
              0.4444444444444444,
              "#bd3786"
             ],
             [
              0.5555555555555556,
              "#d8576b"
             ],
             [
              0.6666666666666666,
              "#ed7953"
             ],
             [
              0.7777777777777778,
              "#fb9f3a"
             ],
             [
              0.8888888888888888,
              "#fdca26"
             ],
             [
              1,
              "#f0f921"
             ]
            ],
            "type": "contour"
           }
          ],
          "contourcarpet": [
           {
            "colorbar": {
             "outlinewidth": 0,
             "ticks": ""
            },
            "type": "contourcarpet"
           }
          ],
          "heatmap": [
           {
            "colorbar": {
             "outlinewidth": 0,
             "ticks": ""
            },
            "colorscale": [
             [
              0,
              "#0d0887"
             ],
             [
              0.1111111111111111,
              "#46039f"
             ],
             [
              0.2222222222222222,
              "#7201a8"
             ],
             [
              0.3333333333333333,
              "#9c179e"
             ],
             [
              0.4444444444444444,
              "#bd3786"
             ],
             [
              0.5555555555555556,
              "#d8576b"
             ],
             [
              0.6666666666666666,
              "#ed7953"
             ],
             [
              0.7777777777777778,
              "#fb9f3a"
             ],
             [
              0.8888888888888888,
              "#fdca26"
             ],
             [
              1,
              "#f0f921"
             ]
            ],
            "type": "heatmap"
           }
          ],
          "heatmapgl": [
           {
            "colorbar": {
             "outlinewidth": 0,
             "ticks": ""
            },
            "colorscale": [
             [
              0,
              "#0d0887"
             ],
             [
              0.1111111111111111,
              "#46039f"
             ],
             [
              0.2222222222222222,
              "#7201a8"
             ],
             [
              0.3333333333333333,
              "#9c179e"
             ],
             [
              0.4444444444444444,
              "#bd3786"
             ],
             [
              0.5555555555555556,
              "#d8576b"
             ],
             [
              0.6666666666666666,
              "#ed7953"
             ],
             [
              0.7777777777777778,
              "#fb9f3a"
             ],
             [
              0.8888888888888888,
              "#fdca26"
             ],
             [
              1,
              "#f0f921"
             ]
            ],
            "type": "heatmapgl"
           }
          ],
          "histogram": [
           {
            "marker": {
             "pattern": {
              "fillmode": "overlay",
              "size": 10,
              "solidity": 0.2
             }
            },
            "type": "histogram"
           }
          ],
          "histogram2d": [
           {
            "colorbar": {
             "outlinewidth": 0,
             "ticks": ""
            },
            "colorscale": [
             [
              0,
              "#0d0887"
             ],
             [
              0.1111111111111111,
              "#46039f"
             ],
             [
              0.2222222222222222,
              "#7201a8"
             ],
             [
              0.3333333333333333,
              "#9c179e"
             ],
             [
              0.4444444444444444,
              "#bd3786"
             ],
             [
              0.5555555555555556,
              "#d8576b"
             ],
             [
              0.6666666666666666,
              "#ed7953"
             ],
             [
              0.7777777777777778,
              "#fb9f3a"
             ],
             [
              0.8888888888888888,
              "#fdca26"
             ],
             [
              1,
              "#f0f921"
             ]
            ],
            "type": "histogram2d"
           }
          ],
          "histogram2dcontour": [
           {
            "colorbar": {
             "outlinewidth": 0,
             "ticks": ""
            },
            "colorscale": [
             [
              0,
              "#0d0887"
             ],
             [
              0.1111111111111111,
              "#46039f"
             ],
             [
              0.2222222222222222,
              "#7201a8"
             ],
             [
              0.3333333333333333,
              "#9c179e"
             ],
             [
              0.4444444444444444,
              "#bd3786"
             ],
             [
              0.5555555555555556,
              "#d8576b"
             ],
             [
              0.6666666666666666,
              "#ed7953"
             ],
             [
              0.7777777777777778,
              "#fb9f3a"
             ],
             [
              0.8888888888888888,
              "#fdca26"
             ],
             [
              1,
              "#f0f921"
             ]
            ],
            "type": "histogram2dcontour"
           }
          ],
          "mesh3d": [
           {
            "colorbar": {
             "outlinewidth": 0,
             "ticks": ""
            },
            "type": "mesh3d"
           }
          ],
          "parcoords": [
           {
            "line": {
             "colorbar": {
              "outlinewidth": 0,
              "ticks": ""
             }
            },
            "type": "parcoords"
           }
          ],
          "pie": [
           {
            "automargin": true,
            "type": "pie"
           }
          ],
          "scatter": [
           {
            "fillpattern": {
             "fillmode": "overlay",
             "size": 10,
             "solidity": 0.2
            },
            "type": "scatter"
           }
          ],
          "scatter3d": [
           {
            "line": {
             "colorbar": {
              "outlinewidth": 0,
              "ticks": ""
             }
            },
            "marker": {
             "colorbar": {
              "outlinewidth": 0,
              "ticks": ""
             }
            },
            "type": "scatter3d"
           }
          ],
          "scattercarpet": [
           {
            "marker": {
             "colorbar": {
              "outlinewidth": 0,
              "ticks": ""
             }
            },
            "type": "scattercarpet"
           }
          ],
          "scattergeo": [
           {
            "marker": {
             "colorbar": {
              "outlinewidth": 0,
              "ticks": ""
             }
            },
            "type": "scattergeo"
           }
          ],
          "scattergl": [
           {
            "marker": {
             "colorbar": {
              "outlinewidth": 0,
              "ticks": ""
             }
            },
            "type": "scattergl"
           }
          ],
          "scattermapbox": [
           {
            "marker": {
             "colorbar": {
              "outlinewidth": 0,
              "ticks": ""
             }
            },
            "type": "scattermapbox"
           }
          ],
          "scatterpolar": [
           {
            "marker": {
             "colorbar": {
              "outlinewidth": 0,
              "ticks": ""
             }
            },
            "type": "scatterpolar"
           }
          ],
          "scatterpolargl": [
           {
            "marker": {
             "colorbar": {
              "outlinewidth": 0,
              "ticks": ""
             }
            },
            "type": "scatterpolargl"
           }
          ],
          "scatterternary": [
           {
            "marker": {
             "colorbar": {
              "outlinewidth": 0,
              "ticks": ""
             }
            },
            "type": "scatterternary"
           }
          ],
          "surface": [
           {
            "colorbar": {
             "outlinewidth": 0,
             "ticks": ""
            },
            "colorscale": [
             [
              0,
              "#0d0887"
             ],
             [
              0.1111111111111111,
              "#46039f"
             ],
             [
              0.2222222222222222,
              "#7201a8"
             ],
             [
              0.3333333333333333,
              "#9c179e"
             ],
             [
              0.4444444444444444,
              "#bd3786"
             ],
             [
              0.5555555555555556,
              "#d8576b"
             ],
             [
              0.6666666666666666,
              "#ed7953"
             ],
             [
              0.7777777777777778,
              "#fb9f3a"
             ],
             [
              0.8888888888888888,
              "#fdca26"
             ],
             [
              1,
              "#f0f921"
             ]
            ],
            "type": "surface"
           }
          ],
          "table": [
           {
            "cells": {
             "fill": {
              "color": "#EBF0F8"
             },
             "line": {
              "color": "white"
             }
            },
            "header": {
             "fill": {
              "color": "#C8D4E3"
             },
             "line": {
              "color": "white"
             }
            },
            "type": "table"
           }
          ]
         },
         "layout": {
          "annotationdefaults": {
           "arrowcolor": "#2a3f5f",
           "arrowhead": 0,
           "arrowwidth": 1
          },
          "autotypenumbers": "strict",
          "coloraxis": {
           "colorbar": {
            "outlinewidth": 0,
            "ticks": ""
           }
          },
          "colorscale": {
           "diverging": [
            [
             0,
             "#8e0152"
            ],
            [
             0.1,
             "#c51b7d"
            ],
            [
             0.2,
             "#de77ae"
            ],
            [
             0.3,
             "#f1b6da"
            ],
            [
             0.4,
             "#fde0ef"
            ],
            [
             0.5,
             "#f7f7f7"
            ],
            [
             0.6,
             "#e6f5d0"
            ],
            [
             0.7,
             "#b8e186"
            ],
            [
             0.8,
             "#7fbc41"
            ],
            [
             0.9,
             "#4d9221"
            ],
            [
             1,
             "#276419"
            ]
           ],
           "sequential": [
            [
             0,
             "#0d0887"
            ],
            [
             0.1111111111111111,
             "#46039f"
            ],
            [
             0.2222222222222222,
             "#7201a8"
            ],
            [
             0.3333333333333333,
             "#9c179e"
            ],
            [
             0.4444444444444444,
             "#bd3786"
            ],
            [
             0.5555555555555556,
             "#d8576b"
            ],
            [
             0.6666666666666666,
             "#ed7953"
            ],
            [
             0.7777777777777778,
             "#fb9f3a"
            ],
            [
             0.8888888888888888,
             "#fdca26"
            ],
            [
             1,
             "#f0f921"
            ]
           ],
           "sequentialminus": [
            [
             0,
             "#0d0887"
            ],
            [
             0.1111111111111111,
             "#46039f"
            ],
            [
             0.2222222222222222,
             "#7201a8"
            ],
            [
             0.3333333333333333,
             "#9c179e"
            ],
            [
             0.4444444444444444,
             "#bd3786"
            ],
            [
             0.5555555555555556,
             "#d8576b"
            ],
            [
             0.6666666666666666,
             "#ed7953"
            ],
            [
             0.7777777777777778,
             "#fb9f3a"
            ],
            [
             0.8888888888888888,
             "#fdca26"
            ],
            [
             1,
             "#f0f921"
            ]
           ]
          },
          "colorway": [
           "#636efa",
           "#EF553B",
           "#00cc96",
           "#ab63fa",
           "#FFA15A",
           "#19d3f3",
           "#FF6692",
           "#B6E880",
           "#FF97FF",
           "#FECB52"
          ],
          "font": {
           "color": "#2a3f5f"
          },
          "geo": {
           "bgcolor": "white",
           "lakecolor": "white",
           "landcolor": "#E5ECF6",
           "showlakes": true,
           "showland": true,
           "subunitcolor": "white"
          },
          "hoverlabel": {
           "align": "left"
          },
          "hovermode": "closest",
          "mapbox": {
           "style": "light"
          },
          "paper_bgcolor": "white",
          "plot_bgcolor": "#E5ECF6",
          "polar": {
           "angularaxis": {
            "gridcolor": "white",
            "linecolor": "white",
            "ticks": ""
           },
           "bgcolor": "#E5ECF6",
           "radialaxis": {
            "gridcolor": "white",
            "linecolor": "white",
            "ticks": ""
           }
          },
          "scene": {
           "xaxis": {
            "backgroundcolor": "#E5ECF6",
            "gridcolor": "white",
            "gridwidth": 2,
            "linecolor": "white",
            "showbackground": true,
            "ticks": "",
            "zerolinecolor": "white"
           },
           "yaxis": {
            "backgroundcolor": "#E5ECF6",
            "gridcolor": "white",
            "gridwidth": 2,
            "linecolor": "white",
            "showbackground": true,
            "ticks": "",
            "zerolinecolor": "white"
           },
           "zaxis": {
            "backgroundcolor": "#E5ECF6",
            "gridcolor": "white",
            "gridwidth": 2,
            "linecolor": "white",
            "showbackground": true,
            "ticks": "",
            "zerolinecolor": "white"
           }
          },
          "shapedefaults": {
           "line": {
            "color": "#2a3f5f"
           }
          },
          "ternary": {
           "aaxis": {
            "gridcolor": "white",
            "linecolor": "white",
            "ticks": ""
           },
           "baxis": {
            "gridcolor": "white",
            "linecolor": "white",
            "ticks": ""
           },
           "bgcolor": "#E5ECF6",
           "caxis": {
            "gridcolor": "white",
            "linecolor": "white",
            "ticks": ""
           }
          },
          "title": {
           "x": 0.05
          },
          "xaxis": {
           "automargin": true,
           "gridcolor": "white",
           "linecolor": "white",
           "ticks": "",
           "title": {
            "standoff": 15
           },
           "zerolinecolor": "white",
           "zerolinewidth": 2
          },
          "yaxis": {
           "automargin": true,
           "gridcolor": "white",
           "linecolor": "white",
           "ticks": "",
           "title": {
            "standoff": 15
           },
           "zerolinecolor": "white",
           "zerolinewidth": 2
          }
         }
        },
        "title": {
         "font": {
          "size": 20
         },
         "text": "Test Error of Random Forest",
         "x": 0.5
        },
        "width": 1000,
        "xaxis": {
         "anchor": "y",
         "domain": [
          0,
          1
         ],
         "tickfont": {
          "size": 12
         },
         "title": {
          "text": "Absolute Error of Log Ki"
         }
        },
        "yaxis": {
         "anchor": "x",
         "domain": [
          0,
          1
         ],
         "tickfont": {
          "size": 12
         },
         "title": {
          "text": "Count"
         }
        }
       }
      }
     },
     "metadata": {},
     "output_type": "display_data"
    },
    {
     "name": "stdout",
     "output_type": "stream",
     "text": [
      "Figure saved to plots\\random_forest_test.html\n"
     ]
    }
   ],
   "source": [
    "plot_error_histogram(pred_RF, y_test_scaled, title=\"Test Error of Random Forest\", save_path='plots\\\\random_forest_test')"
   ]
  },
  {
   "cell_type": "code",
   "execution_count": 93,
   "metadata": {},
   "outputs": [
    {
     "data": {
      "application/vnd.plotly.v1+json": {
       "config": {
        "plotlyServerURL": "https://plot.ly"
       },
       "data": [
        {
         "alignmentgroup": "True",
         "bingroup": "x",
         "hovertemplate": "Absolute Error of Log Ki=%{x}<br>count=%{y}<extra></extra>",
         "legendgroup": "",
         "marker": {
          "color": "#636efa",
          "pattern": {
           "shape": ""
          }
         },
         "name": "",
         "nbinsx": 100,
         "offsetgroup": "",
         "orientation": "v",
         "showlegend": false,
         "type": "histogram",
         "x": [
          1.0821784405570583,
          0.0025572946739567115,
          1.0759996807257615,
          0.17525059568603152,
          0.6454936292521127,
          0.21424809842112136,
          1.0821784405570583,
          0.5236703404090286,
          0.3111759039857437,
          0.16921188253360342,
          0.0309561782122032,
          0.25263855140124303,
          0.2494337305203591,
          1.1636661762875071,
          0.3685412703714128,
          0.2920623119102689,
          0.09158272192368855,
          1.1842292070279863,
          0.002467390637321154,
          2.458831029834258,
          0.2160125614012851,
          0.5113851821277194,
          2.57479292929651,
          0.35942164317888087,
          0.2539172835313724,
          0.667044522546844,
          1.1996467442063263,
          0.03641833567373465,
          1.397345932256901,
          0.29446168409678775,
          0.3628710024705265,
          0.27845794699482695,
          4.211677728232809,
          0.2622882063144756,
          1.7771704129368513,
          1.261241310469868,
          0.36689855938709703,
          0.08256462382479157,
          0.2624184593960901,
          2.6552129131722952,
          0.21141482323986577,
          0.3306012309590744,
          1.1101608112909802,
          0.22182979375390133,
          1.5338870437161363,
          0.6100025108187678,
          1.4058522209257602,
          1.1771220892962395,
          2.2439217943628442,
          1.135151109044311,
          1.2454430624814352,
          1.0926519206276668,
          0.030048830928847803,
          3.5414529247863524,
          0.9301058377672996,
          2.72460288467398,
          0.2572853597932364,
          0.0007271224517833019,
          0.5049545109458845,
          1.9268258187218572,
          0.21141482323986577,
          0.17847388220709703,
          2.438946561637852,
          0.032419987750107016,
          0.15586455944771038,
          1.9775602070672746,
          0.18736075163672905,
          0.15218714804185174,
          2.2981733751326487,
          0.6152913377001474,
          0.44443412565321605,
          0.02631406575794032,
          0.8502077841086785,
          0.8241856122871536,
          0.7367118390862368,
          1.1965325464154761,
          0.42233103038685926,
          1.0371130959760984,
          0.5021966263987987,
          1.7986357942170697,
          0.13522247875431104,
          0.2942045065265426,
          0.15050854655247048,
          0.4881015145195804,
          2.9288075616089486,
          0.29140772911942703,
          0.020294588931868862,
          0.3147319961617666,
          1.4184245307692542,
          0.3947597304470922,
          0.832822626776754,
          2.767356739633226,
          2.0304680806146944,
          1.583388603377355,
          0.4934823120063059,
          1.3274146958106654,
          5.331908013782439,
          0.9142100438692475,
          0.2534248450094042,
          1.4719735505694052,
          1.9090536082247793,
          1.2334418007355539,
          0.031904825895511024,
          0.6320622291076343,
          2.6201856816417166,
          0.49789878917831354,
          0.9287496371028283,
          0.6606460147207855,
          0.17104212851828637,
          1.1126652657890597,
          1.912317020156752,
          1.0319062434341328,
          0.331815379802737,
          0.2819757309944022,
          0.9588109808736587,
          0.10908414474702788,
          0.048139796762684206,
          0.30893869455017864,
          0.7001020639875222,
          0.4959125854377797,
          0.30382895667156595,
          0.7516951562238136,
          0.5340455001394606,
          0.8070594569582317,
          1.3310111069778516,
          0.4281886879582537,
          1.272588731985758,
          2.239812190095959,
          2.5497704993603865,
          0.11889626183371083,
          0.30440967304275746,
          0.7193550726633436,
          0.8370727585682012,
          0.1713286390338542,
          0.5517056330719592,
          1.2280112815953204,
          0.4460798054347217,
          0.5713194598323934,
          0.6085343192010648,
          0.035565633529151874,
          0.5336023559311409,
          0.28864458247600067,
          0.15752570273732314,
          0.08381142909050254,
          0.1213930322058907,
          0.226515616112672,
          0.6994216729110803,
          2.653766138064859,
          0.7472189478442821,
          0.024273028076071568,
          0.30948407929292876,
          0.019526897762098594,
          0.804031150662439,
          0.9486519951884307,
          0.000388161865781278,
          3.7907886323797664,
          0.4141238637751128,
          1.6947166533769482,
          0.8296336545737504,
          0.03766502851072606,
          0.30409356653050534,
          0.061710166007739264,
          3.048994423099699,
          0.012341436246237403,
          0.09101972261962565,
          0.1524092116272805,
          1.4496785622521626,
          0.1461470540343599,
          0.6350423029833124,
          0.3439393028828761,
          1.3769809566333544,
          0.9018722421355296,
          0.0034724421037806152,
          0.005395126686033702,
          3.1909582386457513,
          1.7757800363100331,
          2.022813003748538,
          0.049528279516398044,
          0.4188178446982712,
          0.856094841572406,
          0.006109610122402298,
          1.2380833509109976,
          3.2115885146567438,
          0.0067591790126464435,
          0.013753421922787057,
          2.0150457803985464,
          0.8102270601649797,
          0.4711364699335324,
          0.00013759016465431095,
          0.03181690856106356,
          0.052148765826577625,
          0.2513345229640891,
          0.04066358403945891,
          0.11142320379497173,
          0.6930085952545497,
          0.42559395635998815,
          1.3201768951919444,
          0.23834606499722366,
          1.0331025940892218,
          0.007575929956177285,
          0.0004012827642370098,
          0.16602410687808433,
          0.28765051668797104,
          0.7390558604391184,
          0.18454931107509776,
          0.006793395127498769,
          0.1524092116272805,
          0.07850384075846994,
          0.003019066738801257,
          0.014000602743482471,
          0.0027447126120865306,
          0.06371690709241284,
          1.1260472223905562,
          0.28929307260641934,
          0.5468754195978816,
          0.002748286048348092
         ],
         "xaxis": "x",
         "yaxis": "y"
        }
       ],
       "layout": {
        "barmode": "relative",
        "font": {
         "size": 12
        },
        "height": 600,
        "legend": {
         "tracegroupgap": 0
        },
        "template": {
         "data": {
          "bar": [
           {
            "error_x": {
             "color": "#2a3f5f"
            },
            "error_y": {
             "color": "#2a3f5f"
            },
            "marker": {
             "line": {
              "color": "#E5ECF6",
              "width": 0.5
             },
             "pattern": {
              "fillmode": "overlay",
              "size": 10,
              "solidity": 0.2
             }
            },
            "type": "bar"
           }
          ],
          "barpolar": [
           {
            "marker": {
             "line": {
              "color": "#E5ECF6",
              "width": 0.5
             },
             "pattern": {
              "fillmode": "overlay",
              "size": 10,
              "solidity": 0.2
             }
            },
            "type": "barpolar"
           }
          ],
          "carpet": [
           {
            "aaxis": {
             "endlinecolor": "#2a3f5f",
             "gridcolor": "white",
             "linecolor": "white",
             "minorgridcolor": "white",
             "startlinecolor": "#2a3f5f"
            },
            "baxis": {
             "endlinecolor": "#2a3f5f",
             "gridcolor": "white",
             "linecolor": "white",
             "minorgridcolor": "white",
             "startlinecolor": "#2a3f5f"
            },
            "type": "carpet"
           }
          ],
          "choropleth": [
           {
            "colorbar": {
             "outlinewidth": 0,
             "ticks": ""
            },
            "type": "choropleth"
           }
          ],
          "contour": [
           {
            "colorbar": {
             "outlinewidth": 0,
             "ticks": ""
            },
            "colorscale": [
             [
              0,
              "#0d0887"
             ],
             [
              0.1111111111111111,
              "#46039f"
             ],
             [
              0.2222222222222222,
              "#7201a8"
             ],
             [
              0.3333333333333333,
              "#9c179e"
             ],
             [
              0.4444444444444444,
              "#bd3786"
             ],
             [
              0.5555555555555556,
              "#d8576b"
             ],
             [
              0.6666666666666666,
              "#ed7953"
             ],
             [
              0.7777777777777778,
              "#fb9f3a"
             ],
             [
              0.8888888888888888,
              "#fdca26"
             ],
             [
              1,
              "#f0f921"
             ]
            ],
            "type": "contour"
           }
          ],
          "contourcarpet": [
           {
            "colorbar": {
             "outlinewidth": 0,
             "ticks": ""
            },
            "type": "contourcarpet"
           }
          ],
          "heatmap": [
           {
            "colorbar": {
             "outlinewidth": 0,
             "ticks": ""
            },
            "colorscale": [
             [
              0,
              "#0d0887"
             ],
             [
              0.1111111111111111,
              "#46039f"
             ],
             [
              0.2222222222222222,
              "#7201a8"
             ],
             [
              0.3333333333333333,
              "#9c179e"
             ],
             [
              0.4444444444444444,
              "#bd3786"
             ],
             [
              0.5555555555555556,
              "#d8576b"
             ],
             [
              0.6666666666666666,
              "#ed7953"
             ],
             [
              0.7777777777777778,
              "#fb9f3a"
             ],
             [
              0.8888888888888888,
              "#fdca26"
             ],
             [
              1,
              "#f0f921"
             ]
            ],
            "type": "heatmap"
           }
          ],
          "heatmapgl": [
           {
            "colorbar": {
             "outlinewidth": 0,
             "ticks": ""
            },
            "colorscale": [
             [
              0,
              "#0d0887"
             ],
             [
              0.1111111111111111,
              "#46039f"
             ],
             [
              0.2222222222222222,
              "#7201a8"
             ],
             [
              0.3333333333333333,
              "#9c179e"
             ],
             [
              0.4444444444444444,
              "#bd3786"
             ],
             [
              0.5555555555555556,
              "#d8576b"
             ],
             [
              0.6666666666666666,
              "#ed7953"
             ],
             [
              0.7777777777777778,
              "#fb9f3a"
             ],
             [
              0.8888888888888888,
              "#fdca26"
             ],
             [
              1,
              "#f0f921"
             ]
            ],
            "type": "heatmapgl"
           }
          ],
          "histogram": [
           {
            "marker": {
             "pattern": {
              "fillmode": "overlay",
              "size": 10,
              "solidity": 0.2
             }
            },
            "type": "histogram"
           }
          ],
          "histogram2d": [
           {
            "colorbar": {
             "outlinewidth": 0,
             "ticks": ""
            },
            "colorscale": [
             [
              0,
              "#0d0887"
             ],
             [
              0.1111111111111111,
              "#46039f"
             ],
             [
              0.2222222222222222,
              "#7201a8"
             ],
             [
              0.3333333333333333,
              "#9c179e"
             ],
             [
              0.4444444444444444,
              "#bd3786"
             ],
             [
              0.5555555555555556,
              "#d8576b"
             ],
             [
              0.6666666666666666,
              "#ed7953"
             ],
             [
              0.7777777777777778,
              "#fb9f3a"
             ],
             [
              0.8888888888888888,
              "#fdca26"
             ],
             [
              1,
              "#f0f921"
             ]
            ],
            "type": "histogram2d"
           }
          ],
          "histogram2dcontour": [
           {
            "colorbar": {
             "outlinewidth": 0,
             "ticks": ""
            },
            "colorscale": [
             [
              0,
              "#0d0887"
             ],
             [
              0.1111111111111111,
              "#46039f"
             ],
             [
              0.2222222222222222,
              "#7201a8"
             ],
             [
              0.3333333333333333,
              "#9c179e"
             ],
             [
              0.4444444444444444,
              "#bd3786"
             ],
             [
              0.5555555555555556,
              "#d8576b"
             ],
             [
              0.6666666666666666,
              "#ed7953"
             ],
             [
              0.7777777777777778,
              "#fb9f3a"
             ],
             [
              0.8888888888888888,
              "#fdca26"
             ],
             [
              1,
              "#f0f921"
             ]
            ],
            "type": "histogram2dcontour"
           }
          ],
          "mesh3d": [
           {
            "colorbar": {
             "outlinewidth": 0,
             "ticks": ""
            },
            "type": "mesh3d"
           }
          ],
          "parcoords": [
           {
            "line": {
             "colorbar": {
              "outlinewidth": 0,
              "ticks": ""
             }
            },
            "type": "parcoords"
           }
          ],
          "pie": [
           {
            "automargin": true,
            "type": "pie"
           }
          ],
          "scatter": [
           {
            "fillpattern": {
             "fillmode": "overlay",
             "size": 10,
             "solidity": 0.2
            },
            "type": "scatter"
           }
          ],
          "scatter3d": [
           {
            "line": {
             "colorbar": {
              "outlinewidth": 0,
              "ticks": ""
             }
            },
            "marker": {
             "colorbar": {
              "outlinewidth": 0,
              "ticks": ""
             }
            },
            "type": "scatter3d"
           }
          ],
          "scattercarpet": [
           {
            "marker": {
             "colorbar": {
              "outlinewidth": 0,
              "ticks": ""
             }
            },
            "type": "scattercarpet"
           }
          ],
          "scattergeo": [
           {
            "marker": {
             "colorbar": {
              "outlinewidth": 0,
              "ticks": ""
             }
            },
            "type": "scattergeo"
           }
          ],
          "scattergl": [
           {
            "marker": {
             "colorbar": {
              "outlinewidth": 0,
              "ticks": ""
             }
            },
            "type": "scattergl"
           }
          ],
          "scattermapbox": [
           {
            "marker": {
             "colorbar": {
              "outlinewidth": 0,
              "ticks": ""
             }
            },
            "type": "scattermapbox"
           }
          ],
          "scatterpolar": [
           {
            "marker": {
             "colorbar": {
              "outlinewidth": 0,
              "ticks": ""
             }
            },
            "type": "scatterpolar"
           }
          ],
          "scatterpolargl": [
           {
            "marker": {
             "colorbar": {
              "outlinewidth": 0,
              "ticks": ""
             }
            },
            "type": "scatterpolargl"
           }
          ],
          "scatterternary": [
           {
            "marker": {
             "colorbar": {
              "outlinewidth": 0,
              "ticks": ""
             }
            },
            "type": "scatterternary"
           }
          ],
          "surface": [
           {
            "colorbar": {
             "outlinewidth": 0,
             "ticks": ""
            },
            "colorscale": [
             [
              0,
              "#0d0887"
             ],
             [
              0.1111111111111111,
              "#46039f"
             ],
             [
              0.2222222222222222,
              "#7201a8"
             ],
             [
              0.3333333333333333,
              "#9c179e"
             ],
             [
              0.4444444444444444,
              "#bd3786"
             ],
             [
              0.5555555555555556,
              "#d8576b"
             ],
             [
              0.6666666666666666,
              "#ed7953"
             ],
             [
              0.7777777777777778,
              "#fb9f3a"
             ],
             [
              0.8888888888888888,
              "#fdca26"
             ],
             [
              1,
              "#f0f921"
             ]
            ],
            "type": "surface"
           }
          ],
          "table": [
           {
            "cells": {
             "fill": {
              "color": "#EBF0F8"
             },
             "line": {
              "color": "white"
             }
            },
            "header": {
             "fill": {
              "color": "#C8D4E3"
             },
             "line": {
              "color": "white"
             }
            },
            "type": "table"
           }
          ]
         },
         "layout": {
          "annotationdefaults": {
           "arrowcolor": "#2a3f5f",
           "arrowhead": 0,
           "arrowwidth": 1
          },
          "autotypenumbers": "strict",
          "coloraxis": {
           "colorbar": {
            "outlinewidth": 0,
            "ticks": ""
           }
          },
          "colorscale": {
           "diverging": [
            [
             0,
             "#8e0152"
            ],
            [
             0.1,
             "#c51b7d"
            ],
            [
             0.2,
             "#de77ae"
            ],
            [
             0.3,
             "#f1b6da"
            ],
            [
             0.4,
             "#fde0ef"
            ],
            [
             0.5,
             "#f7f7f7"
            ],
            [
             0.6,
             "#e6f5d0"
            ],
            [
             0.7,
             "#b8e186"
            ],
            [
             0.8,
             "#7fbc41"
            ],
            [
             0.9,
             "#4d9221"
            ],
            [
             1,
             "#276419"
            ]
           ],
           "sequential": [
            [
             0,
             "#0d0887"
            ],
            [
             0.1111111111111111,
             "#46039f"
            ],
            [
             0.2222222222222222,
             "#7201a8"
            ],
            [
             0.3333333333333333,
             "#9c179e"
            ],
            [
             0.4444444444444444,
             "#bd3786"
            ],
            [
             0.5555555555555556,
             "#d8576b"
            ],
            [
             0.6666666666666666,
             "#ed7953"
            ],
            [
             0.7777777777777778,
             "#fb9f3a"
            ],
            [
             0.8888888888888888,
             "#fdca26"
            ],
            [
             1,
             "#f0f921"
            ]
           ],
           "sequentialminus": [
            [
             0,
             "#0d0887"
            ],
            [
             0.1111111111111111,
             "#46039f"
            ],
            [
             0.2222222222222222,
             "#7201a8"
            ],
            [
             0.3333333333333333,
             "#9c179e"
            ],
            [
             0.4444444444444444,
             "#bd3786"
            ],
            [
             0.5555555555555556,
             "#d8576b"
            ],
            [
             0.6666666666666666,
             "#ed7953"
            ],
            [
             0.7777777777777778,
             "#fb9f3a"
            ],
            [
             0.8888888888888888,
             "#fdca26"
            ],
            [
             1,
             "#f0f921"
            ]
           ]
          },
          "colorway": [
           "#636efa",
           "#EF553B",
           "#00cc96",
           "#ab63fa",
           "#FFA15A",
           "#19d3f3",
           "#FF6692",
           "#B6E880",
           "#FF97FF",
           "#FECB52"
          ],
          "font": {
           "color": "#2a3f5f"
          },
          "geo": {
           "bgcolor": "white",
           "lakecolor": "white",
           "landcolor": "#E5ECF6",
           "showlakes": true,
           "showland": true,
           "subunitcolor": "white"
          },
          "hoverlabel": {
           "align": "left"
          },
          "hovermode": "closest",
          "mapbox": {
           "style": "light"
          },
          "paper_bgcolor": "white",
          "plot_bgcolor": "#E5ECF6",
          "polar": {
           "angularaxis": {
            "gridcolor": "white",
            "linecolor": "white",
            "ticks": ""
           },
           "bgcolor": "#E5ECF6",
           "radialaxis": {
            "gridcolor": "white",
            "linecolor": "white",
            "ticks": ""
           }
          },
          "scene": {
           "xaxis": {
            "backgroundcolor": "#E5ECF6",
            "gridcolor": "white",
            "gridwidth": 2,
            "linecolor": "white",
            "showbackground": true,
            "ticks": "",
            "zerolinecolor": "white"
           },
           "yaxis": {
            "backgroundcolor": "#E5ECF6",
            "gridcolor": "white",
            "gridwidth": 2,
            "linecolor": "white",
            "showbackground": true,
            "ticks": "",
            "zerolinecolor": "white"
           },
           "zaxis": {
            "backgroundcolor": "#E5ECF6",
            "gridcolor": "white",
            "gridwidth": 2,
            "linecolor": "white",
            "showbackground": true,
            "ticks": "",
            "zerolinecolor": "white"
           }
          },
          "shapedefaults": {
           "line": {
            "color": "#2a3f5f"
           }
          },
          "ternary": {
           "aaxis": {
            "gridcolor": "white",
            "linecolor": "white",
            "ticks": ""
           },
           "baxis": {
            "gridcolor": "white",
            "linecolor": "white",
            "ticks": ""
           },
           "bgcolor": "#E5ECF6",
           "caxis": {
            "gridcolor": "white",
            "linecolor": "white",
            "ticks": ""
           }
          },
          "title": {
           "x": 0.05
          },
          "xaxis": {
           "automargin": true,
           "gridcolor": "white",
           "linecolor": "white",
           "ticks": "",
           "title": {
            "standoff": 15
           },
           "zerolinecolor": "white",
           "zerolinewidth": 2
          },
          "yaxis": {
           "automargin": true,
           "gridcolor": "white",
           "linecolor": "white",
           "ticks": "",
           "title": {
            "standoff": 15
           },
           "zerolinecolor": "white",
           "zerolinewidth": 2
          }
         }
        },
        "title": {
         "font": {
          "size": 20
         },
         "text": "Test Error of XGBoost",
         "x": 0.5
        },
        "width": 1000,
        "xaxis": {
         "anchor": "y",
         "domain": [
          0,
          1
         ],
         "tickfont": {
          "size": 12
         },
         "title": {
          "text": "Absolute Error of Log Ki"
         }
        },
        "yaxis": {
         "anchor": "x",
         "domain": [
          0,
          1
         ],
         "tickfont": {
          "size": 12
         },
         "title": {
          "text": "Count"
         }
        }
       }
      }
     },
     "metadata": {},
     "output_type": "display_data"
    },
    {
     "name": "stdout",
     "output_type": "stream",
     "text": [
      "Figure saved to plots\\XGB_test.html\n"
     ]
    }
   ],
   "source": [
    "plot_error_histogram(pred_XGB, y_test_scaled, title=\"Test Error of XGBoost\", save_path='plots\\\\XGB_test')"
   ]
  },
  {
   "cell_type": "code",
   "execution_count": 94,
   "metadata": {},
   "outputs": [
    {
     "data": {
      "application/vnd.plotly.v1+json": {
       "config": {
        "plotlyServerURL": "https://plot.ly"
       },
       "data": [
        {
         "alignmentgroup": "True",
         "bingroup": "x",
         "hovertemplate": "Absolute Percentage Error=%{x}<br>count=%{y}<extra></extra>",
         "legendgroup": "",
         "marker": {
          "color": "#636efa",
          "pattern": {
           "shape": ""
          }
         },
         "name": "",
         "nbinsx": 100,
         "offsetgroup": "",
         "orientation": "v",
         "showlegend": false,
         "type": "histogram",
         "x": [
          0.30774728260619,
          0.11249117238793316,
          0.4050611033417831,
          0.2134659719793075,
          1.850012487099299,
          0.681674451811286,
          0.30774728260619,
          1.0717445789973963,
          0.37362391716072096,
          0.23391898791209054,
          0.47633087867109203,
          0.4237512881490513,
          0.12628988045041867,
          2.0947617733637287,
          2.154198976905841,
          0.6911372314828339,
          0.3039205515543416,
          2.716723619504293,
          0.36929280957078325,
          2.281334723869651,
          0.7894349629711632,
          0.362964280117978,
          0.2488860411748991,
          0.4524467742284343,
          0.8614131107335585,
          0.4506335712385725,
          0.34337631664854845,
          0.6397518897953134,
          1.2506562102896268,
          0.027355735831804395,
          0.6548448359807536,
          0.3534426902828116,
          2.2688290058772793,
          0.8777921717220631,
          0.9424110121840426,
          1.1629778851651622,
          0.5727788286104096,
          0.09140471049814913,
          0.402254899199624,
          0.9037102843227488,
          0.388911129204473,
          0.5080975369236816,
          0.2608905736714855,
          0.056262969970703125,
          1.9097543256971505,
          0.1683060202787755,
          1.855771875879554,
          0.5816802839388907,
          2.623182228305662,
          1.5792121369784982,
          1.016242278155636,
          0.6429114202609123,
          0.24864511133827716,
          2.58248458698149,
          0.5760095119476318,
          2.452850805473389,
          0.5696025846148659,
          1.317900224451071,
          0.27125564012396997,
          0.02796289970615337,
          0.388911129204473,
          0.41217565174620097,
          4.5437221746551275,
          0.39964908477469396,
          0.956516110743912,
          2.3087548172315167,
          0.7035530817341529,
          0.5664644758755056,
          2.183297520213671,
          0.6136924160003049,
          0.08563082763879715,
          0.15588509701225917,
          0.1736209912405119,
          0.33489509102423254,
          0.7072101521809488,
          0.03792314171875355,
          0.3611545329306407,
          0.07019700342027568,
          0.9347554628658545,
          1.9423219588916534,
          0.9185922157597266,
          0.43144765612288416,
          0.5487629372435998,
          1.2465609474909307,
          3.7912941212441638,
          0.7366422440422018,
          0.14161045121096516,
          0.2104167539435815,
          1.547995562023573,
          1.5751833398288402,
          0.44707342277589407,
          0.9716670513153076,
          2.397467365370534,
          0.5388513434988556,
          1.1519095923023408,
          1.1482343542099611,
          4.880091936556539,
          0.036588093556332524,
          0.6693522392780785,
          1.4250826318210275,
          0.9480033891246324,
          1.9155295555856902,
          0.3415696452239232,
          0.7002159059047699,
          4.510653623734919,
          0.9677288629705783,
          1.2271468118131192,
          0.8073357366880598,
          0.12186493803975074,
          1.044511588991924,
          0.9893058383623554,
          0.8128863055652292,
          0.4520632446605932,
          0.5161426286901434,
          1.631178237681151,
          0.12072575092315674,
          0.8915375912348225,
          1.2258692495979815,
          0.9476852844352521,
          1.3050629549556447,
          0.45099394727290565,
          0.6624280596675973,
          0.2515044449012964,
          0.48888885747911126,
          1.0854056114937978,
          0.1469841327030703,
          0.6762689748168498,
          1.7696705825138381,
          2.021070912073779,
          0.6793252187254046,
          0.3568128400378896,
          0.33762457850770045,
          1.7659667055660573,
          0.36307233547651596,
          0.5737209451674803,
          2.5468322609591647,
          0.49359758256278496,
          1.776369222383118,
          0.03680174658214913,
          1.3887205652774677,
          1.0427073748666555,
          0.8945193789308192,
          0.18840784107854303,
          0.42076386606851646,
          0.5395299753978757,
          0.22870536933961472,
          0.5246487539221563,
          2.7190534875787105,
          1.8132976320903533,
          0.3319403748716314,
          0.6378153444978243,
          0.6015363943409644,
          1.4066307828692568,
          0.9957478269316802,
          0.3426497611845387,
          4.901930824141958,
          0.9400468381006033,
          2.970049825396036,
          0.16591720986903602,
          0.032952425299839216,
          0.9300845245630922,
          2.5801049445259134,
          0.20074191188914026,
          0.6918592826812214,
          0.2663827890553472,
          0.8101919901203832,
          2.040041956755345,
          0.28480343106201256,
          0.2615318084659678,
          0.0006210033368245771,
          0.4458669858227098,
          0.743320304075979,
          0.5749336902569906,
          0.21237140119383413,
          3.003200022850008,
          0.2806390296357576,
          0.6683106961106133,
          1.4860398792075955,
          0.010185695781082305,
          1.0618565906149442,
          0.43894688727058906,
          0.6467230539525946,
          2.7437637471008145,
          0.23098937788280516,
          0.9250233138669405,
          2.4933004987072667,
          0.9479560330808194,
          0.014224720997389806,
          0.6834918927091065,
          0.34459964872993964,
          0.8861723236490071,
          0.9388231668617948,
          0.7837520543052228,
          0.24479019915273126,
          0.7066050236490445,
          0.3538140427010957,
          2.0260404174256488,
          0.3839090755735093,
          0.18980661680438948,
          0.9874183009999695,
          1.1444117438626011,
          0.12325446249641914,
          0.5549528687955336,
          0.30823454074161427,
          0.3632227601620417,
          0.02553855610943878,
          0.8101919901203832,
          0.2209415737897411,
          0.10843212960563164,
          0.7998599798308137,
          0.01579535213730998,
          0.16912996995924323,
          1.9495458734511715,
          0.20132577558008813,
          0.2262951874741399,
          0.08723998583392856
         ],
         "xaxis": "x",
         "yaxis": "y"
        }
       ],
       "layout": {
        "barmode": "relative",
        "font": {
         "size": 12
        },
        "height": 600,
        "legend": {
         "tracegroupgap": 0
        },
        "template": {
         "data": {
          "bar": [
           {
            "error_x": {
             "color": "#2a3f5f"
            },
            "error_y": {
             "color": "#2a3f5f"
            },
            "marker": {
             "line": {
              "color": "#E5ECF6",
              "width": 0.5
             },
             "pattern": {
              "fillmode": "overlay",
              "size": 10,
              "solidity": 0.2
             }
            },
            "type": "bar"
           }
          ],
          "barpolar": [
           {
            "marker": {
             "line": {
              "color": "#E5ECF6",
              "width": 0.5
             },
             "pattern": {
              "fillmode": "overlay",
              "size": 10,
              "solidity": 0.2
             }
            },
            "type": "barpolar"
           }
          ],
          "carpet": [
           {
            "aaxis": {
             "endlinecolor": "#2a3f5f",
             "gridcolor": "white",
             "linecolor": "white",
             "minorgridcolor": "white",
             "startlinecolor": "#2a3f5f"
            },
            "baxis": {
             "endlinecolor": "#2a3f5f",
             "gridcolor": "white",
             "linecolor": "white",
             "minorgridcolor": "white",
             "startlinecolor": "#2a3f5f"
            },
            "type": "carpet"
           }
          ],
          "choropleth": [
           {
            "colorbar": {
             "outlinewidth": 0,
             "ticks": ""
            },
            "type": "choropleth"
           }
          ],
          "contour": [
           {
            "colorbar": {
             "outlinewidth": 0,
             "ticks": ""
            },
            "colorscale": [
             [
              0,
              "#0d0887"
             ],
             [
              0.1111111111111111,
              "#46039f"
             ],
             [
              0.2222222222222222,
              "#7201a8"
             ],
             [
              0.3333333333333333,
              "#9c179e"
             ],
             [
              0.4444444444444444,
              "#bd3786"
             ],
             [
              0.5555555555555556,
              "#d8576b"
             ],
             [
              0.6666666666666666,
              "#ed7953"
             ],
             [
              0.7777777777777778,
              "#fb9f3a"
             ],
             [
              0.8888888888888888,
              "#fdca26"
             ],
             [
              1,
              "#f0f921"
             ]
            ],
            "type": "contour"
           }
          ],
          "contourcarpet": [
           {
            "colorbar": {
             "outlinewidth": 0,
             "ticks": ""
            },
            "type": "contourcarpet"
           }
          ],
          "heatmap": [
           {
            "colorbar": {
             "outlinewidth": 0,
             "ticks": ""
            },
            "colorscale": [
             [
              0,
              "#0d0887"
             ],
             [
              0.1111111111111111,
              "#46039f"
             ],
             [
              0.2222222222222222,
              "#7201a8"
             ],
             [
              0.3333333333333333,
              "#9c179e"
             ],
             [
              0.4444444444444444,
              "#bd3786"
             ],
             [
              0.5555555555555556,
              "#d8576b"
             ],
             [
              0.6666666666666666,
              "#ed7953"
             ],
             [
              0.7777777777777778,
              "#fb9f3a"
             ],
             [
              0.8888888888888888,
              "#fdca26"
             ],
             [
              1,
              "#f0f921"
             ]
            ],
            "type": "heatmap"
           }
          ],
          "heatmapgl": [
           {
            "colorbar": {
             "outlinewidth": 0,
             "ticks": ""
            },
            "colorscale": [
             [
              0,
              "#0d0887"
             ],
             [
              0.1111111111111111,
              "#46039f"
             ],
             [
              0.2222222222222222,
              "#7201a8"
             ],
             [
              0.3333333333333333,
              "#9c179e"
             ],
             [
              0.4444444444444444,
              "#bd3786"
             ],
             [
              0.5555555555555556,
              "#d8576b"
             ],
             [
              0.6666666666666666,
              "#ed7953"
             ],
             [
              0.7777777777777778,
              "#fb9f3a"
             ],
             [
              0.8888888888888888,
              "#fdca26"
             ],
             [
              1,
              "#f0f921"
             ]
            ],
            "type": "heatmapgl"
           }
          ],
          "histogram": [
           {
            "marker": {
             "pattern": {
              "fillmode": "overlay",
              "size": 10,
              "solidity": 0.2
             }
            },
            "type": "histogram"
           }
          ],
          "histogram2d": [
           {
            "colorbar": {
             "outlinewidth": 0,
             "ticks": ""
            },
            "colorscale": [
             [
              0,
              "#0d0887"
             ],
             [
              0.1111111111111111,
              "#46039f"
             ],
             [
              0.2222222222222222,
              "#7201a8"
             ],
             [
              0.3333333333333333,
              "#9c179e"
             ],
             [
              0.4444444444444444,
              "#bd3786"
             ],
             [
              0.5555555555555556,
              "#d8576b"
             ],
             [
              0.6666666666666666,
              "#ed7953"
             ],
             [
              0.7777777777777778,
              "#fb9f3a"
             ],
             [
              0.8888888888888888,
              "#fdca26"
             ],
             [
              1,
              "#f0f921"
             ]
            ],
            "type": "histogram2d"
           }
          ],
          "histogram2dcontour": [
           {
            "colorbar": {
             "outlinewidth": 0,
             "ticks": ""
            },
            "colorscale": [
             [
              0,
              "#0d0887"
             ],
             [
              0.1111111111111111,
              "#46039f"
             ],
             [
              0.2222222222222222,
              "#7201a8"
             ],
             [
              0.3333333333333333,
              "#9c179e"
             ],
             [
              0.4444444444444444,
              "#bd3786"
             ],
             [
              0.5555555555555556,
              "#d8576b"
             ],
             [
              0.6666666666666666,
              "#ed7953"
             ],
             [
              0.7777777777777778,
              "#fb9f3a"
             ],
             [
              0.8888888888888888,
              "#fdca26"
             ],
             [
              1,
              "#f0f921"
             ]
            ],
            "type": "histogram2dcontour"
           }
          ],
          "mesh3d": [
           {
            "colorbar": {
             "outlinewidth": 0,
             "ticks": ""
            },
            "type": "mesh3d"
           }
          ],
          "parcoords": [
           {
            "line": {
             "colorbar": {
              "outlinewidth": 0,
              "ticks": ""
             }
            },
            "type": "parcoords"
           }
          ],
          "pie": [
           {
            "automargin": true,
            "type": "pie"
           }
          ],
          "scatter": [
           {
            "fillpattern": {
             "fillmode": "overlay",
             "size": 10,
             "solidity": 0.2
            },
            "type": "scatter"
           }
          ],
          "scatter3d": [
           {
            "line": {
             "colorbar": {
              "outlinewidth": 0,
              "ticks": ""
             }
            },
            "marker": {
             "colorbar": {
              "outlinewidth": 0,
              "ticks": ""
             }
            },
            "type": "scatter3d"
           }
          ],
          "scattercarpet": [
           {
            "marker": {
             "colorbar": {
              "outlinewidth": 0,
              "ticks": ""
             }
            },
            "type": "scattercarpet"
           }
          ],
          "scattergeo": [
           {
            "marker": {
             "colorbar": {
              "outlinewidth": 0,
              "ticks": ""
             }
            },
            "type": "scattergeo"
           }
          ],
          "scattergl": [
           {
            "marker": {
             "colorbar": {
              "outlinewidth": 0,
              "ticks": ""
             }
            },
            "type": "scattergl"
           }
          ],
          "scattermapbox": [
           {
            "marker": {
             "colorbar": {
              "outlinewidth": 0,
              "ticks": ""
             }
            },
            "type": "scattermapbox"
           }
          ],
          "scatterpolar": [
           {
            "marker": {
             "colorbar": {
              "outlinewidth": 0,
              "ticks": ""
             }
            },
            "type": "scatterpolar"
           }
          ],
          "scatterpolargl": [
           {
            "marker": {
             "colorbar": {
              "outlinewidth": 0,
              "ticks": ""
             }
            },
            "type": "scatterpolargl"
           }
          ],
          "scatterternary": [
           {
            "marker": {
             "colorbar": {
              "outlinewidth": 0,
              "ticks": ""
             }
            },
            "type": "scatterternary"
           }
          ],
          "surface": [
           {
            "colorbar": {
             "outlinewidth": 0,
             "ticks": ""
            },
            "colorscale": [
             [
              0,
              "#0d0887"
             ],
             [
              0.1111111111111111,
              "#46039f"
             ],
             [
              0.2222222222222222,
              "#7201a8"
             ],
             [
              0.3333333333333333,
              "#9c179e"
             ],
             [
              0.4444444444444444,
              "#bd3786"
             ],
             [
              0.5555555555555556,
              "#d8576b"
             ],
             [
              0.6666666666666666,
              "#ed7953"
             ],
             [
              0.7777777777777778,
              "#fb9f3a"
             ],
             [
              0.8888888888888888,
              "#fdca26"
             ],
             [
              1,
              "#f0f921"
             ]
            ],
            "type": "surface"
           }
          ],
          "table": [
           {
            "cells": {
             "fill": {
              "color": "#EBF0F8"
             },
             "line": {
              "color": "white"
             }
            },
            "header": {
             "fill": {
              "color": "#C8D4E3"
             },
             "line": {
              "color": "white"
             }
            },
            "type": "table"
           }
          ]
         },
         "layout": {
          "annotationdefaults": {
           "arrowcolor": "#2a3f5f",
           "arrowhead": 0,
           "arrowwidth": 1
          },
          "autotypenumbers": "strict",
          "coloraxis": {
           "colorbar": {
            "outlinewidth": 0,
            "ticks": ""
           }
          },
          "colorscale": {
           "diverging": [
            [
             0,
             "#8e0152"
            ],
            [
             0.1,
             "#c51b7d"
            ],
            [
             0.2,
             "#de77ae"
            ],
            [
             0.3,
             "#f1b6da"
            ],
            [
             0.4,
             "#fde0ef"
            ],
            [
             0.5,
             "#f7f7f7"
            ],
            [
             0.6,
             "#e6f5d0"
            ],
            [
             0.7,
             "#b8e186"
            ],
            [
             0.8,
             "#7fbc41"
            ],
            [
             0.9,
             "#4d9221"
            ],
            [
             1,
             "#276419"
            ]
           ],
           "sequential": [
            [
             0,
             "#0d0887"
            ],
            [
             0.1111111111111111,
             "#46039f"
            ],
            [
             0.2222222222222222,
             "#7201a8"
            ],
            [
             0.3333333333333333,
             "#9c179e"
            ],
            [
             0.4444444444444444,
             "#bd3786"
            ],
            [
             0.5555555555555556,
             "#d8576b"
            ],
            [
             0.6666666666666666,
             "#ed7953"
            ],
            [
             0.7777777777777778,
             "#fb9f3a"
            ],
            [
             0.8888888888888888,
             "#fdca26"
            ],
            [
             1,
             "#f0f921"
            ]
           ],
           "sequentialminus": [
            [
             0,
             "#0d0887"
            ],
            [
             0.1111111111111111,
             "#46039f"
            ],
            [
             0.2222222222222222,
             "#7201a8"
            ],
            [
             0.3333333333333333,
             "#9c179e"
            ],
            [
             0.4444444444444444,
             "#bd3786"
            ],
            [
             0.5555555555555556,
             "#d8576b"
            ],
            [
             0.6666666666666666,
             "#ed7953"
            ],
            [
             0.7777777777777778,
             "#fb9f3a"
            ],
            [
             0.8888888888888888,
             "#fdca26"
            ],
            [
             1,
             "#f0f921"
            ]
           ]
          },
          "colorway": [
           "#636efa",
           "#EF553B",
           "#00cc96",
           "#ab63fa",
           "#FFA15A",
           "#19d3f3",
           "#FF6692",
           "#B6E880",
           "#FF97FF",
           "#FECB52"
          ],
          "font": {
           "color": "#2a3f5f"
          },
          "geo": {
           "bgcolor": "white",
           "lakecolor": "white",
           "landcolor": "#E5ECF6",
           "showlakes": true,
           "showland": true,
           "subunitcolor": "white"
          },
          "hoverlabel": {
           "align": "left"
          },
          "hovermode": "closest",
          "mapbox": {
           "style": "light"
          },
          "paper_bgcolor": "white",
          "plot_bgcolor": "#E5ECF6",
          "polar": {
           "angularaxis": {
            "gridcolor": "white",
            "linecolor": "white",
            "ticks": ""
           },
           "bgcolor": "#E5ECF6",
           "radialaxis": {
            "gridcolor": "white",
            "linecolor": "white",
            "ticks": ""
           }
          },
          "scene": {
           "xaxis": {
            "backgroundcolor": "#E5ECF6",
            "gridcolor": "white",
            "gridwidth": 2,
            "linecolor": "white",
            "showbackground": true,
            "ticks": "",
            "zerolinecolor": "white"
           },
           "yaxis": {
            "backgroundcolor": "#E5ECF6",
            "gridcolor": "white",
            "gridwidth": 2,
            "linecolor": "white",
            "showbackground": true,
            "ticks": "",
            "zerolinecolor": "white"
           },
           "zaxis": {
            "backgroundcolor": "#E5ECF6",
            "gridcolor": "white",
            "gridwidth": 2,
            "linecolor": "white",
            "showbackground": true,
            "ticks": "",
            "zerolinecolor": "white"
           }
          },
          "shapedefaults": {
           "line": {
            "color": "#2a3f5f"
           }
          },
          "ternary": {
           "aaxis": {
            "gridcolor": "white",
            "linecolor": "white",
            "ticks": ""
           },
           "baxis": {
            "gridcolor": "white",
            "linecolor": "white",
            "ticks": ""
           },
           "bgcolor": "#E5ECF6",
           "caxis": {
            "gridcolor": "white",
            "linecolor": "white",
            "ticks": ""
           }
          },
          "title": {
           "x": 0.05
          },
          "xaxis": {
           "automargin": true,
           "gridcolor": "white",
           "linecolor": "white",
           "ticks": "",
           "title": {
            "standoff": 15
           },
           "zerolinecolor": "white",
           "zerolinewidth": 2
          },
          "yaxis": {
           "automargin": true,
           "gridcolor": "white",
           "linecolor": "white",
           "ticks": "",
           "title": {
            "standoff": 15
           },
           "zerolinecolor": "white",
           "zerolinewidth": 2
          }
         }
        },
        "title": {
         "font": {
          "size": 20
         },
         "text": "Test Error of Neural Network",
         "x": 0.5
        },
        "width": 1000,
        "xaxis": {
         "anchor": "y",
         "domain": [
          0,
          1
         ],
         "tickfont": {
          "size": 12
         },
         "title": {
          "text": "Absolute Percentage Error"
         }
        },
        "yaxis": {
         "anchor": "x",
         "domain": [
          0,
          1
         ],
         "tickfont": {
          "size": 12
         },
         "title": {
          "text": "Count"
         }
        }
       }
      }
     },
     "metadata": {},
     "output_type": "display_data"
    },
    {
     "name": "stdout",
     "output_type": "stream",
     "text": [
      "Figure saved to plots\\random_test.html\n"
     ]
    }
   ],
   "source": [
    "plot_error_histogram(pred_TN, y_test_scaled, title=\"Test Error of Neural Network\", xlabel=\"Absolute Percentage Error\", save_path='plots\\\\random_test')"
   ]
  }
 ],
 "metadata": {
  "kernelspec": {
   "display_name": "base",
   "language": "python",
   "name": "python3"
  },
  "language_info": {
   "codemirror_mode": {
    "name": "ipython",
    "version": 3
   },
   "file_extension": ".py",
   "mimetype": "text/x-python",
   "name": "python",
   "nbconvert_exporter": "python",
   "pygments_lexer": "ipython3",
   "version": "3.9.7"
  }
 },
 "nbformat": 4,
 "nbformat_minor": 2
}
